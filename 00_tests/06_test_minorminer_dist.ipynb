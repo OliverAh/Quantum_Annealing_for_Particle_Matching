{
 "cells": [
  {
   "cell_type": "code",
   "execution_count": null,
   "id": "02d8ebf0-1d4c-481e-8308-495b7d2044da",
   "metadata": {},
   "outputs": [],
   "source": [
    "import sys\n",
    "import pathlib\n",
    "sys.path.append(str(pathlib.PurePath(pathlib.Path.cwd().parent)))\n",
    "\n",
    "import numpy as np\n",
    "import matplotlib.pyplot as plt\n",
    "\n",
    "import networkx as nx\n",
    "import dwave_networkx as dnx\n",
    "import minorminer\n",
    "\n",
    "import dwave.system\n",
    "from dwave.system import DWaveSampler, EmbeddingComposite\n",
    "\n",
    "from src.particle_funcs import distance_matrix as distance_matrix\n",
    "import src.leap_funcs.qubo.q_matrix as q_matrix"
   ]
  },
  {
   "cell_type": "code",
   "execution_count": null,
   "id": "f8d211cd-66d4-459d-83a4-796a58aaaee6",
   "metadata": {},
   "outputs": [],
   "source": [
    "num_particles = 15\n",
    "\n",
    "part_coords_n = np.zeros((num_particles,2))\n",
    "part_coords_nm1 = np.zeros((num_particles,2))\n",
    "\n",
    "for i in range(np.shape(part_coords_n)[0]):\n",
    "    part_coords_n[i,:] = [0, i]\n",
    "    part_coords_nm1[i,:] = [0.5*1, i]\n",
    "\n",
    "fig_initial, axs_initial = plt.subplots(1,1)\n",
    "axs_initial.scatter(part_coords_n[:,0], part_coords_n[:,1], label=\"n\")\n",
    "axs_initial.scatter(part_coords_nm1[:,0], part_coords_nm1[:,1], label=\"n-1\")\n",
    "fig_initial.legend()\n",
    "fig_initial.show()\n",
    "\n",
    "correct_sol = np.zeros(num_particles*num_particles)\n",
    "for i in range(1, num_particles+1):\n",
    "    correct_sol[(i-1)*num_particles + i -1] = 1.\n",
    "\n",
    "print(correct_sol)"
   ]
  },
  {
   "cell_type": "code",
   "execution_count": null,
   "metadata": {},
   "outputs": [],
   "source": [
    "distances = distance_matrix.calc_phi_ij(part_coords_n, part_coords_nm1)\n",
    "print(distances)\n",
    "print(np.max(distances))"
   ]
  },
  {
   "cell_type": "code",
   "execution_count": null,
   "metadata": {},
   "outputs": [],
   "source": [
    "Q_dist = q_matrix.q_dist(distances)\n",
    "assert (Q_dist.transpose() == Q_dist).all(), 'Q_dist is not symmetric'\n",
    "Q_part = q_matrix.q_part(np.shape(distances)[0])\n",
    "Q_pos = q_matrix.q_pos(np.shape(distances)[0])\n",
    "Q_array = Q_dist + Q_part + Q_pos\n",
    "with np.printoptions(precision=3):\n",
    "    print(Q_dist)\n",
    "    print(Q_part)\n",
    "    print(Q_pos)\n",
    "    print(Q_pos[0,:])\n",
    "    print(Q_array)\n",
    "\n",
    "Q_dict = q_matrix.Q_convert_to_dict(Q_array)\n",
    "print(Q_dict)"
   ]
  },
  {
   "cell_type": "code",
   "execution_count": null,
   "id": "b87b6951-7351-452f-9615-ccd3756b9a22",
   "metadata": {},
   "outputs": [],
   "source": [
    "with open('../API_Token.txt') as file:\n",
    "    token = file.readline().rstrip()\n",
    "    architecture = file.readline().rstrip()\n",
    "\n",
    "sampler = DWaveSampler(token=token , architecture='pegasus')\n",
    "sampler_graph = sampler.to_networkx_graph()"
   ]
  },
  {
   "cell_type": "code",
   "execution_count": null,
   "id": "0849c929-2b02-41cb-8d60-cd55b0b37fd3",
   "metadata": {},
   "outputs": [],
   "source": [
    "#%matplotlib widget\n",
    "#f, axes = plt.subplots(1, 1)\n",
    "#plt.ion()\n",
    "#dnx.draw_pegasus(sampler_graph, with_labels=True, crosses=True, node_color=\"Yellow\", ax=axes)\n",
    "#plt.show()"
   ]
  },
  {
   "cell_type": "code",
   "execution_count": null,
   "id": "5900b1ed-940d-4be6-8526-12e8000c7618",
   "metadata": {},
   "outputs": [],
   "source": [
    "#embedded_G = minorminer.find_embedding(Q_dict,sampler_graph, interactive=True, verbose=3, max_no_improvement=100, tries=50, chainlength_patience=50)\n",
    "#embedded_G = minorminer.find_embedding(Q_dict,sampler_graph, interactive=True, verbose=3, max_no_improvement=100, tries=200, chainlength_patience=100, threads=6)\n",
    "embedded_G = minorminer.find_embedding(Q_dict,sampler_graph, interactive=True, verbose=3, max_no_improvement=1000, tries=1000, chainlength_patience=100, threads=6)\n",
    "#embedded_G = minorminer.find_embedding(Q_dict,sampler_graph, interactive=True, verbose=3)"
   ]
  },
  {
   "cell_type": "code",
   "execution_count": null,
   "id": "73ddb1f1-9d43-4690-91a8-4911d56413cc",
   "metadata": {},
   "outputs": [],
   "source": [
    "f, axes = plt.subplots(1, 1)\n",
    "dnx.draw_pegasus_embedding(sampler_graph, embedded_G, with_labels=True, crosses=True, ax=axes)\n",
    "#dnx.draw_pegasus(H, with_labels=True, crosses=True, node_color=\"Yellow\", ax=axes)\n",
    "#dnx.draw_pegasus(embedded_G, crosses=True, node_color='b', style='dashed',\n",
    "#          edge_color='b', width=3, ax=axes)\n",
    "plt.show()\n"
   ]
  },
  {
   "cell_type": "code",
   "execution_count": null,
   "id": "0b501328-b619-4ecc-a832-801f2927b8b3",
   "metadata": {},
   "outputs": [],
   "source": [
    "figsize_man = (75,75)\n",
    "dpi_man = None\n",
    "plt.ioff()\n",
    "f, axes = plt.subplots(1, 1, figsize=figsize_man)\n",
    "dnx.draw_pegasus_embedding(sampler_graph, embedded_G, with_labels=True, crosses=True, ax=axes)\n",
    "plt.savefig('embedding.png')"
   ]
  },
  {
   "cell_type": "code",
   "execution_count": null,
   "id": "3ba36736-a9fe-43ec-b7ca-3f77474ca075",
   "metadata": {},
   "outputs": [],
   "source": []
  }
 ],
 "metadata": {
  "kernelspec": {
   "display_name": "Python 3 (ipykernel)",
   "language": "python",
   "name": "python3"
  },
  "language_info": {
   "codemirror_mode": {
    "name": "ipython",
    "version": 3
   },
   "file_extension": ".py",
   "mimetype": "text/x-python",
   "name": "python",
   "nbconvert_exporter": "python",
   "pygments_lexer": "ipython3",
   "version": "3.10.13"
  }
 },
 "nbformat": 4,
 "nbformat_minor": 5
}
