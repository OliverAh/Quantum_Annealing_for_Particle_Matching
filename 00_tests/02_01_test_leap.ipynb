{
 "cells": [
  {
   "cell_type": "code",
   "execution_count": null,
   "metadata": {},
   "outputs": [],
   "source": [
    "import dwave.system\n",
    "import numpy as np\n",
    "import matplotlib.pyplot as plt\n",
    "import src.particle_funcs.distance_matrix as distance_matrix\n",
    "import src.leap_funcs.qubo.q_matrix as q_matrix"
   ]
  },
  {
   "cell_type": "code",
   "execution_count": null,
   "metadata": {},
   "outputs": [],
   "source": [
    "num_particles = 7\n",
    "\n",
    "use_dimod_exact_solver = False\n",
    "\n",
    "part_coords_n = np.zeros((num_particles,2))\n",
    "part_coords_nm1 = np.zeros((num_particles,2))\n",
    "\n",
    "for i in range(np.shape(part_coords_n)[0]):\n",
    "    part_coords_n[i,:] = [0, i]\n",
    "    part_coords_nm1[i,:] = [0.5*1, i]\n",
    "\n",
    "fig_initial, axs_initial = plt.subplots(1,1)\n",
    "axs_initial.scatter(part_coords_n[:,0], part_coords_n[:,1], label=\"n\")\n",
    "axs_initial.scatter(part_coords_nm1[:,0], part_coords_nm1[:,1], label=\"n-1\")\n",
    "fig_initial.legend()\n",
    "fig_initial.show()\n",
    "\n",
    "correct_sol = np.zeros(num_particles*num_particles)\n",
    "for i in range(1, num_particles+1):\n",
    "    correct_sol[(i-1)*num_particles + i -1] = 1.\n",
    "\n",
    "print(correct_sol)"
   ]
  },
  {
   "cell_type": "code",
   "execution_count": null,
   "metadata": {},
   "outputs": [],
   "source": [
    "distances = distance_matrix.calc_phi_ij(part_coords_n, part_coords_nm1, type='tanh_minimum', tanh_min=0.1)\n",
    "print(distances)\n",
    "ids_remove = np.where(distances > 4)\n",
    "print(ids_remove)\n",
    "print(np.shape(ids_remove))\n",
    "print(np.max(distances))"
   ]
  },
  {
   "cell_type": "code",
   "execution_count": null,
   "metadata": {},
   "outputs": [],
   "source": [
    "Q_dist = q_matrix.q_dist(distances)\n",
    "assert (Q_dist.transpose() == Q_dist).all(), 'Q_dist is not symmetric'\n",
    "with np.printoptions(precision=3):\n",
    "    print(Q_dist)\n",
    "max_abs = np.max(Q_dist)\n",
    "#Q_dist /= max_abs\n",
    "#with np.printoptions(precision=3):\n",
    "#    print(Q_dist)"
   ]
  },
  {
   "cell_type": "code",
   "execution_count": null,
   "metadata": {},
   "outputs": [],
   "source": [
    "Q_part = q_matrix.q_part(np.shape(distances)[0])\n",
    "assert (Q_part.transpose() == Q_part).all(), 'Q_part is not symmetric'\n",
    "print(Q_part)"
   ]
  },
  {
   "cell_type": "code",
   "execution_count": null,
   "metadata": {},
   "outputs": [],
   "source": [
    "Q_pos = q_matrix.q_pos(np.shape(distances)[0])\n",
    "assert (Q_pos.transpose() == Q_pos).all(), 'Q_pos is not symmetric'\n",
    "print(Q_pos)"
   ]
  },
  {
   "cell_type": "code",
   "execution_count": null,
   "metadata": {},
   "outputs": [],
   "source": [
    "lm = np.max(Q_dist)\n",
    "Q_array = Q_dist + 2*lm*(Q_part + Q_pos)\n",
    "print('lambda Q_2 and Q_3: ', lm)\n",
    "\n",
    "Q_array = Q_dist/np.min([x for x in Q_dist.flatten() if x > 0.0]) + Q_part + Q_pos\n",
    "\n",
    "\n",
    "with np.printoptions(precision=3, suppress=True):\n",
    "    print(Q_array)\n"
   ]
  },
  {
   "cell_type": "code",
   "execution_count": null,
   "metadata": {},
   "outputs": [],
   "source": [
    "d = 3.5\n",
    "Q_dist_rem, i_mats, j_mats = q_matrix.remove_large_distances(Q_dist, distances, d)\n",
    "Q_part_rem, _, _ = q_matrix.remove_large_distances(Q_part, distances, d)\n",
    "Q_pos_rem, _, _= q_matrix.remove_large_distances(Q_pos, distances, d)\n",
    "\n",
    "lm_rem = np.max(Q_dist_rem)\n",
    "Q_array_rem = Q_dist_rem + 100*lm_rem*(Q_part_rem + Q_pos_rem)\n",
    "print('lambda Q_2 and Q_3: ', lm_rem)\n",
    "with np.printoptions(precision=3, suppress=True):\n",
    "    print(Q_array_rem)\n",
    "print(np.max(Q_array_rem))"
   ]
  },
  {
   "cell_type": "code",
   "execution_count": null,
   "metadata": {},
   "outputs": [],
   "source": [
    "Q_dict = q_matrix.Q_convert_to_dict(Q_array)\n",
    "#Q_dict = q_matrix.Q_convert_to_dict(Q_array_rem)\n",
    "print(Q_dict)"
   ]
  },
  {
   "cell_type": "code",
   "execution_count": null,
   "metadata": {},
   "outputs": [],
   "source": [
    "if use_dimod_exact_solver:\n",
    "    from dimod import ExactSolver\n",
    "\n",
    "    sampler = ExactSolver()\n",
    "\n",
    "    solution = sampler.sample_qubo(Q_dict)"
   ]
  },
  {
   "cell_type": "code",
   "execution_count": null,
   "metadata": {},
   "outputs": [],
   "source": [
    "if use_dimod_exact_solver:\n",
    "    print(solution)"
   ]
  },
  {
   "cell_type": "code",
   "execution_count": null,
   "metadata": {},
   "outputs": [],
   "source": [
    "if use_dimod_exact_solver:\n",
    "    print(solution.data_vectors.keys())\n",
    "    #print(solution.data_vectors['energy'])\n",
    "    sorted_abs_energies = np.sort(np.abs(solution.data_vectors['energy']))\n",
    "    ids_sorted_abs_energies = np.argsort(np.abs(solution.data_vectors['energy']))\n",
    "    ids_sorted_energies = np.argsort(solution.data_vectors['energy'])\n",
    "\n",
    "    print(solution.record[ids_sorted_abs_energies[0:7]])\n",
    "    print(solution.record[ids_sorted_energies[0:7]])"
   ]
  },
  {
   "cell_type": "code",
   "execution_count": null,
   "metadata": {},
   "outputs": [],
   "source": [
    "if use_dimod_exact_solver:\n",
    "    ids_correct_solution = []\n",
    "    for i, sol in enumerate(solution.record):\n",
    "        #print(sol[0])\n",
    "        if np.array_equal(sol[0], correct_sol):\n",
    "            ids_correct_solution.append(i)\n",
    "    print(ids_correct_solution)\n",
    "    print(solution.record[ids_correct_solution])\n"
   ]
  },
  {
   "cell_type": "code",
   "execution_count": null,
   "metadata": {},
   "outputs": [],
   "source": [
    "from dwave.system import DWaveSampler, EmbeddingComposite\n",
    "\n",
    "with open('API_Token.txt') as file:\n",
    "    token = file.readline().rstrip()\n",
    "    architecture = file.readline().rstrip()\n",
    "\n",
    "sampler = DWaveSampler(token = token, architecture='pegasus')\n",
    "print(DWaveSampler._get_solver(sampler))\n",
    "\n",
    "sampler = EmbeddingComposite(sampler)\n",
    "sample = sampler.sample_qubo(Q_dict, num_reads = 1000, auto_scale=True)"
   ]
  },
  {
   "cell_type": "code",
   "execution_count": null,
   "metadata": {},
   "outputs": [],
   "source": [
    "print(sample)"
   ]
  },
  {
   "cell_type": "code",
   "execution_count": null,
   "metadata": {},
   "outputs": [],
   "source": [
    "#usually is sorted for energies automatically\n",
    "ids_sorted_energies = np.argsort(sample.data_vectors['energy'])\n",
    "\n",
    "print(sample.record[ids_sorted_energies[0:7]])"
   ]
  },
  {
   "cell_type": "code",
   "execution_count": null,
   "metadata": {},
   "outputs": [],
   "source": [
    "from src.leap_funcs.qubo import filter_samples\n",
    "\n",
    "ids_valid_solutions= filter_samples.indices_of_valid_solutions(sample)\n",
    "print(ids_valid_solutions)\n",
    "print(sample.record[ids_valid_solutions])"
   ]
  },
  {
   "cell_type": "code",
   "execution_count": null,
   "metadata": {},
   "outputs": [],
   "source": [
    "for sol in sample.record:\n",
    "    if np.array_equal(correct_sol, sol[0]):\n",
    "        print(sol)\n",
    "for sol in sample.record[ids_valid_solutions]:\n",
    "    if np.array_equal(correct_sol, sol[0]):\n",
    "        print(sol)"
   ]
  },
  {
   "cell_type": "code",
   "execution_count": null,
   "metadata": {},
   "outputs": [],
   "source": [
    "#print(np.sort(i_mats))\n",
    "#print(np.sort(j_mats))\n",
    "#print(np.intersect1d(i_mats, j_mats))\n",
    "#tmp = sample.record[ids_sorted_energies[0]][0]\n",
    "#tmp = np.insert(tmp, 6, 0)\n",
    "#tmp = np.insert(tmp, 42, 0)\n",
    "#tmp = np.insert(tmp, 48, 0)\n",
    "#print(tmp)\n",
    "\n",
    "print(sample.record[ids_sorted_energies[0]][0])\n",
    "print(correct_sol)\n",
    "print(np.array_equal(correct_sol, sample.record[ids_sorted_energies[0]][0]))\n",
    "correct_sol - sample.record[ids_sorted_energies[0]][0]"
   ]
  }
 ],
 "metadata": {
  "kernelspec": {
   "display_name": "dwave",
   "language": "python",
   "name": "python3"
  },
  "language_info": {
   "codemirror_mode": {
    "name": "ipython",
    "version": 3
   },
   "file_extension": ".py",
   "mimetype": "text/x-python",
   "name": "python",
   "nbconvert_exporter": "python",
   "pygments_lexer": "ipython3",
   "version": "3.10.12"
  },
  "orig_nbformat": 4
 },
 "nbformat": 4,
 "nbformat_minor": 2
}
