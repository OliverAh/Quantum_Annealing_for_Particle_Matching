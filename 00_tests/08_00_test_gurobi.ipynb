{
 "cells": [
  {
   "cell_type": "code",
   "execution_count": 1,
   "metadata": {},
   "outputs": [],
   "source": [
    "import sys\n",
    "import pathlib\n",
    "sys.path.append(str(pathlib.PurePath(pathlib.Path.cwd().parent)))\n",
    "\n",
    "import numpy as np\n",
    "import scipy\n",
    "import matplotlib.pyplot as plt\n",
    "import time\n",
    "\n",
    "from src.particle_funcs import distance_matrix as distance_matrix\n",
    "import src.leap_funcs.qubo.q_matrix as q_matrix\n",
    "\n",
    "import gurobipy"
   ]
  },
  {
   "cell_type": "code",
   "execution_count": 2,
   "metadata": {},
   "outputs": [
    {
     "name": "stdout",
     "output_type": "stream",
     "text": [
      "[1. 0. 0. ... 0. 0. 1.]\n"
     ]
    },
    {
     "name": "stderr",
     "output_type": "stream",
     "text": [
      "C:\\Users\\oahre\\AppData\\Local\\Temp\\ipykernel_16232\\3082771223.py:16: UserWarning: FigureCanvasAgg is non-interactive, and thus cannot be shown\n",
      "  fig_initial.show()\n"
     ]
    },
    {
     "data": {
      "image/png": "[encoded data removed]",
      "text/plain": [
       "<Figure size 640x480 with 1 Axes>"
      ]
     },
     "metadata": {},
     "output_type": "display_data"
    }
   ],
   "source": [
    "num_particles = 100\n",
    "\n",
    "use_dimod_exact_solver = False\n",
    "\n",
    "part_coords_n = np.zeros((num_particles,2))\n",
    "part_coords_nm1 = np.zeros((num_particles,2))\n",
    "\n",
    "for i in range(np.shape(part_coords_n)[0]):\n",
    "    part_coords_n[i,:] = [0, i]\n",
    "    part_coords_nm1[i,:] = [0.5*1, i]\n",
    "\n",
    "fig_initial, axs_initial = plt.subplots(1,1)\n",
    "axs_initial.scatter(part_coords_n[:,0], part_coords_n[:,1], label=\"n\")\n",
    "axs_initial.scatter(part_coords_nm1[:,0], part_coords_nm1[:,1], label=\"n-1\")\n",
    "fig_initial.legend()\n",
    "fig_initial.show()\n",
    "\n",
    "correct_sol = np.zeros(num_particles*num_particles)\n",
    "for i in range(1, num_particles+1):\n",
    "    correct_sol[(i-1)*num_particles + i -1] = 1.\n",
    "\n",
    "print(correct_sol)"
   ]
  },
  {
   "cell_type": "code",
   "execution_count": 3,
   "metadata": {},
   "outputs": [
    {
     "name": "stdout",
     "output_type": "stream",
     "text": [
      "[[0.5   0.    0.    ... 0.    0.    0.   ]\n",
      " [0.    1.118 0.    ... 0.    0.    0.   ]\n",
      " [0.    0.    2.062 ... 0.    0.    0.   ]\n",
      " ...\n",
      " [0.    0.    0.    ... 2.062 0.    0.   ]\n",
      " [0.    0.    0.    ... 0.    1.118 0.   ]\n",
      " [0.    0.    0.    ... 0.    0.    0.5  ]]\n",
      "[[-1.  4.  4. ...  0.  0.  0.]\n",
      " [ 0. -1.  4. ...  0.  0.  0.]\n",
      " [ 0.  0. -1. ...  0.  0.  0.]\n",
      " ...\n",
      " [ 0.  0.  0. ... -1.  4.  4.]\n",
      " [ 0.  0.  0. ...  0. -1.  4.]\n",
      " [ 0.  0.  0. ...  0.  0. -1.]]\n",
      "[[-1.  0.  0. ...  0.  0.  0.]\n",
      " [ 0. -1.  0. ...  0.  0.  0.]\n",
      " [ 0.  0. -1. ...  0.  0.  0.]\n",
      " ...\n",
      " [ 0.  0.  0. ... -1.  0.  0.]\n",
      " [ 0.  0.  0. ...  0. -1.  0.]\n",
      " [ 0.  0.  0. ...  0.  0. -1.]]\n"
     ]
    }
   ],
   "source": [
    "distances = distance_matrix.calc_phi_ij(part_coords_n, part_coords_nm1)\n",
    "Q_dist_diag = q_matrix.q_dist_diag(distances)\n",
    "assert (Q_dist_diag.transpose() == Q_dist_diag).all(), 'Q_dist is not symmetric'\n",
    "with np.printoptions(precision=3):\n",
    "    print(Q_dist_diag)\n",
    "Q_part = q_matrix.q_part(np.shape(distances)[0])\n",
    "print(Q_part)\n",
    "#assert (Q_part.transpose() == Q_part).all(), 'Q_part is not symmetric'\n",
    "# changed to only return upper triangular part, so is definitely not symmetric\n",
    "Q_pos = q_matrix.q_pos(np.shape(distances)[0])\n",
    "Q_pos = q_matrix.q_pos(np.shape(distances)[0])\n",
    "print(Q_pos)\n",
    "#assert (Q_pos.transpose() == Q_pos).all(), 'Q_pos is not symmetric'\n",
    "# changed to only return upper triangular part, so is definitely not symmetric"
   ]
  },
  {
   "cell_type": "code",
   "execution_count": 4,
   "metadata": {},
   "outputs": [
    {
     "name": "stdout",
     "output_type": "stream",
     "text": [
      "[[-1.5    4.     4.    ...  0.     0.     0.   ]\n",
      " [ 0.    -0.882  4.    ...  0.     0.     0.   ]\n",
      " [ 0.     0.     0.062 ...  0.     0.     0.   ]\n",
      " ...\n",
      " [ 0.     0.     0.    ...  0.062  4.     4.   ]\n",
      " [ 0.     0.     0.    ...  0.    -0.882  4.   ]\n",
      " [ 0.     0.     0.    ...  0.     0.    -1.5  ]]\n"
     ]
    }
   ],
   "source": [
    "Q_array = Q_dist_diag + Q_part + Q_pos\n",
    "\n",
    "with np.printoptions(precision=3, suppress=True):\n",
    "    print(Q_array)"
   ]
  },
  {
   "cell_type": "code",
   "execution_count": 5,
   "metadata": {},
   "outputs": [],
   "source": [
    "#Q_dict = q_matrix.Q_convert_to_dict(Q_array)\n",
    "#Q_dict = q_matrix.Q_convert_to_dict(Q_array_rem)\n",
    "#print(Q_dict)"
   ]
  },
  {
   "cell_type": "code",
   "execution_count": 6,
   "metadata": {},
   "outputs": [
    {
     "name": "stdout",
     "output_type": "stream",
     "text": [
      "Set parameter WLSAccessID\n",
      "Set parameter WLSSecret\n",
      "Set parameter LicenseID to value 2450895\n",
      "Academic license 2450895 - for non-commercial use only - registered to ol___@rwth-aachen.de\n",
      "    NumVars =  0\n",
      "Gurobi Optimizer version 11.0.0 build v11.0.0rc2 (win64 - Windows 10.0 (19045.2))\n",
      "\n",
      "CPU model: Intel(R) Core(TM) i7-8750H CPU @ 2.20GHz, instruction set [SSE2|AVX|AVX2]\n",
      "Thread count: 6 physical cores, 12 logical processors, using up to 12 threads\n",
      "\n",
      "Academic license 2450895 - for non-commercial use only - registered to ol___@rwth-aachen.de\n",
      "Optimize a model with 0 rows, 10000 columns and 0 nonzeros\n",
      "Model fingerprint: 0xc8ef98b6\n",
      "Model has 1000000 quadratic objective terms\n",
      "Variable types: 0 continuous, 10000 integer (10000 binary)\n",
      "Coefficient statistics:\n",
      "  Matrix range     [0e+00, 0e+00]\n",
      "  Objective range  [0e+00, 0e+00]\n",
      "  QObjective range [1e-01, 2e+02]\n",
      "  Bounds range     [1e+00, 1e+00]\n",
      "  RHS range        [0e+00, 0e+00]\n",
      "Found heuristic solution: objective 0.0000000\n",
      "Found heuristic solution: objective -148.5000000\n",
      "Found heuristic solution: objective -150.0000000\n",
      "Presolve removed 0 rows and 9702 columns\n",
      "Presolve time: 0.27s\n",
      "Presolved: 592 rows, 890 columns, 1776 nonzeros\n",
      "Variable types: 0 continuous, 890 integer (890 binary)\n",
      "\n",
      "Root relaxation: cutoff, 0 iterations, 0.00 seconds (0.00 work units)\n",
      "\n",
      "Explored 1 nodes (0 simplex iterations) in 4.04 seconds (7.78 work units)\n",
      "Thread count was 12 (of 12 available processors)\n",
      "\n",
      "Solution count 3: -150 -148.5 0 \n",
      "No other solutions better than -150\n",
      "\n",
      "Optimal solution found (tolerance 1.00e-04)\n",
      "Best objective -1.500000000000e+02, best bound -1.500000000000e+02, gap 0.0000%\n",
      "    NumVars =  10000\n",
      "[1. 0. 0. ... 0. 0. 1.]\n",
      "\n",
      "Is solution correct? -->  True\n",
      "Runtime =  4.043999910354614\n"
     ]
    }
   ],
   "source": [
    "gurobi_model = gurobipy.Model()\n",
    "x = gurobi_model.addMVar(num_particles*num_particles, vtype='b', name='x')\n",
    "#Q = gurobi_model.addMVar(Q_array, name='Q')\n",
    "gurobi_model.setObjective(x @ Q_array @ x)\n",
    "print('    NumVars = ',gurobi_model.NumVars)\n",
    "gurobi_model.optimize()\n",
    "print('    NumVars = ',gurobi_model.NumVars)\n",
    "print(x.X)\n",
    "print()\n",
    "print ('Is solution correct? --> ', (x.X == correct_sol).all())\n",
    "print('Runtime = ', gurobi_model.Runtime)"
   ]
  },
  {
   "cell_type": "code",
   "execution_count": 7,
   "metadata": {},
   "outputs": [
    {
     "name": "stdout",
     "output_type": "stream",
     "text": [
      "[1. 0. 0. ... 0. 0. 1.]\n",
      "\n",
      "Is solution correct? -->  True\n",
      "Runtime =  0.15299534797668457\n"
     ]
    }
   ],
   "source": [
    "scipy_tic = time.time()\n",
    "scipy_row_ind, scipy_col_ind = scipy.optimize.linear_sum_assignment(distances)\n",
    "scipy_toc = time.time()\n",
    "scipy_runtime = scipy_toc - scipy_tic\n",
    "scipy_x = np.zeros(num_particles*num_particles)\n",
    "for i in range(len(scipy_row_ind)):\n",
    "    scipy_x[scipy_row_ind[i]*num_particles + scipy_col_ind[i]] = 1\n",
    "print(scipy_x)\n",
    "print()\n",
    "print ('Is solution correct? --> ', (x.X == correct_sol).all())\n",
    "print('Runtime = ', scipy_runtime)"
   ]
  },
  {
   "cell_type": "code",
   "execution_count": null,
   "metadata": {},
   "outputs": [],
   "source": []
  }
 ],
 "metadata": {
  "kernelspec": {
   "display_name": "my_env",
   "language": "python",
   "name": "python3"
  },
  "language_info": {
   "codemirror_mode": {
    "name": "ipython",
    "version": 3
   },
   "file_extension": ".py",
   "mimetype": "text/x-python",
   "name": "python",
   "nbconvert_exporter": "python",
   "pygments_lexer": "ipython3",
   "version": "3.12.0"
  }
 },
 "nbformat": 4,
 "nbformat_minor": 2
}
