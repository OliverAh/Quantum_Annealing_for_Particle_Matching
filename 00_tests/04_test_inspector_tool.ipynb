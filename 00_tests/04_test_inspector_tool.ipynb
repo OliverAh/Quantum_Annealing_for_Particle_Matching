{
 "cells": [
  {
   "cell_type": "code",
   "execution_count": null,
   "metadata": {
    "tags": []
   },
   "outputs": [],
   "source": [
    "import dwave.system\n",
    "import numpy as np\n",
    "import matplotlib.pyplot as plt\n",
    "import src.particle_funcs.distance_matrix as distance_matrix\n",
    "import src.leap_funcs.qubo.q_matrix as q_matrix"
   ]
  },
  {
   "cell_type": "code",
   "execution_count": null,
   "metadata": {},
   "outputs": [],
   "source": [
    "num_particles = 7\n",
    "\n",
    "use_dimod_exact_solver = False\n",
    "\n",
    "part_coords_n = np.zeros((num_particles,2))\n",
    "part_coords_nm1 = np.zeros((num_particles,2))\n",
    "\n",
    "for i in range(np.shape(part_coords_n)[0]):\n",
    "    part_coords_n[i,:] = [0, i]\n",
    "    part_coords_nm1[i,:] = [0.5*1, i]\n",
    "\n",
    "fig_initial, axs_initial = plt.subplots(1,1)\n",
    "axs_initial.scatter(part_coords_n[:,0], part_coords_n[:,1], label=\"n\")\n",
    "axs_initial.scatter(part_coords_nm1[:,0], part_coords_nm1[:,1], label=\"n-1\")\n",
    "fig_initial.legend()\n",
    "fig_initial.show()\n",
    "\n",
    "correct_sol = np.zeros(num_particles*num_particles)\n",
    "for i in range(1, num_particles+1):\n",
    "    correct_sol[(i-1)*num_particles + i -1] = 1.\n",
    "\n",
    "print(correct_sol)"
   ]
  },
  {
   "cell_type": "code",
   "execution_count": null,
   "metadata": {},
   "outputs": [],
   "source": [
    "distances = distance_matrix.calc_phi_ij(part_coords_n, part_coords_nm1)\n",
    "print(distances)\n",
    "print(np.max(distances))"
   ]
  },
  {
   "cell_type": "code",
   "execution_count": null,
   "metadata": {},
   "outputs": [],
   "source": [
    "Q_dist = q_matrix.q_dist(distances)\n",
    "assert (Q_dist.transpose() == Q_dist).all(), 'Q_dist is not symmetric'\n",
    "with np.printoptions(precision=3):\n",
    "    print(Q_dist)\n",
    "max_abs = np.max(Q_dist)\n",
    "#Q_dist /= max_abs\n",
    "#with np.printoptions(precision=3):\n",
    "#    print(Q_dist)"
   ]
  },
  {
   "cell_type": "code",
   "execution_count": null,
   "metadata": {},
   "outputs": [],
   "source": [
    "Q_part = q_matrix.q_part(np.shape(distances)[0])\n",
    "print(Q_part)"
   ]
  },
  {
   "cell_type": "code",
   "execution_count": null,
   "metadata": {},
   "outputs": [],
   "source": [
    "Q_pos = q_matrix.q_pos(np.shape(distances)[0])\n",
    "print(Q_pos)\n",
    "print(Q_pos[0,:])"
   ]
  },
  {
   "cell_type": "code",
   "execution_count": null,
   "metadata": {},
   "outputs": [],
   "source": [
    "Q_array = Q_dist + Q_part + Q_pos\n",
    "\n",
    "\n",
    "with np.printoptions(precision=3, suppress=True):\n",
    "    print(Q_array)\n"
   ]
  },
  {
   "cell_type": "code",
   "execution_count": null,
   "metadata": {},
   "outputs": [],
   "source": [
    "Q_dict = q_matrix.Q_convert_to_dict(Q_array)\n",
    "#Q_dict = q_matrix.Q_convert_to_dict(Q_array_rem)\n",
    "print(Q_dict)"
   ]
  },
  {
   "cell_type": "code",
   "execution_count": null,
   "metadata": {},
   "outputs": [],
   "source": [
    "from dwave.system import DWaveSampler, EmbeddingComposite\n",
    "\n",
    "with open('../API_Token.txt') as file:\n",
    "    token = file.readline().rstrip()\n",
    "    architecture = file.readline().rstrip()\n",
    "\n",
    "#sampler = DWaveSampler(token = token, architecture='pegasus')\n",
    "sampler = DWaveSampler(solver=dict(topology__type='pegasus'), token = token)\n",
    "\n",
    "print(DWaveSampler._get_solver(sampler))\n",
    "\n",
    "sampler = EmbeddingComposite(sampler)\n",
    "sample = sampler.sample_qubo(Q_dict, num_reads = 10)"
   ]
  },
  {
   "cell_type": "code",
   "execution_count": null,
   "metadata": {},
   "outputs": [],
   "source": [
    "print(sample)"
   ]
  },
  {
   "cell_type": "code",
   "execution_count": null,
   "metadata": {},
   "outputs": [],
   "source": [
    "#usually is sorted for energies automatically\n",
    "ids_sorted_energies = np.argsort(sample.data_vectors['energy'])\n",
    "\n",
    "print(sample.record[ids_sorted_energies[0:7]])"
   ]
  },
  {
   "cell_type": "code",
   "execution_count": null,
   "metadata": {},
   "outputs": [],
   "source": [
    "from src.leap_funcs.qubo import filter_samples\n",
    "\n",
    "ids_valid_solutions= filter_samples.indices_of_valid_solutions(sample)\n",
    "print(ids_valid_solutions)\n",
    "print(sample.record[ids_valid_solutions])"
   ]
  },
  {
   "cell_type": "code",
   "execution_count": null,
   "metadata": {},
   "outputs": [],
   "source": [
    "for sol in sample.record:\n",
    "    if np.array_equal(correct_sol, sol[0]):\n",
    "        print(sol)\n",
    "for sol in sample.record[ids_valid_solutions]:\n",
    "    if np.array_equal(correct_sol, sol[0]):\n",
    "        print(sol)"
   ]
  },
  {
   "cell_type": "code",
   "execution_count": null,
   "metadata": {},
   "outputs": [],
   "source": [
    "#print(np.sort(i_mats))\n",
    "#print(np.sort(j_mats))\n",
    "#print(np.intersect1d(i_mats, j_mats))\n",
    "#tmp = sample.record[ids_sorted_energies[0]][0]\n",
    "#tmp = np.insert(tmp, 6, 0)\n",
    "#tmp = np.insert(tmp, 42, 0)\n",
    "#tmp = np.insert(tmp, 48, 0)\n",
    "#print(tmp)\n",
    "\n",
    "print(sample.record[ids_sorted_energies[0]][0])\n",
    "print(correct_sol)\n",
    "print(np.array_equal(correct_sol, sample.record[ids_sorted_energies[0]][0]))\n",
    "correct_sol - sample.record[ids_sorted_energies[0]][0]"
   ]
  },
  {
   "cell_type": "code",
   "execution_count": null,
   "metadata": {},
   "outputs": [],
   "source": [
    "from dwave.system import DWaveSampler, EmbeddingComposite\n",
    "\n",
    "with open('../API_Token.txt') as file:\n",
    "    token = file.readline().rstrip()\n",
    "    architecture = file.readline().rstrip()\n",
    "\n",
    "#sampler = DWaveSampler(token = token, architecture='pegasus')\n",
    "sampler = DWaveSampler(solver=dict(topology__type='pegasus'), token = token)\n",
    "\n",
    "print(DWaveSampler._get_solver(sampler))\n",
    "\n",
    "sampler = EmbeddingComposite(sampler)\n",
    "print(sampler)\n",
    "#response = sampler.sample_qubo(Q_dict, num_reads=3)"
   ]
  },
  {
   "cell_type": "code",
   "execution_count": null,
   "metadata": {},
   "outputs": [],
   "source": [
    "import dwave.inspector\n",
    "print(dir(dwave.inspector))"
   ]
  },
  {
   "cell_type": "code",
   "execution_count": null,
   "metadata": {},
   "outputs": [],
   "source": [
    "dwave.inspector.from_objects()"
   ]
  },
  {
   "cell_type": "code",
   "execution_count": null,
   "metadata": {},
   "outputs": [],
   "source": [
    "dwave.inspector.show(sampler)"
   ]
  },
  {
   "cell_type": "code",
   "execution_count": null,
   "metadata": {},
   "outputs": [],
   "source": [
    "response"
   ]
  },
  {
   "cell_type": "code",
   "execution_count": null,
   "metadata": {},
   "outputs": [],
   "source": [
    "with open('../API_Token.txt') as file:\n",
    "    token = file.readline().rstrip()\n",
    "from dwave.system import DWaveSampler\n",
    "import dwave.inspector\n",
    "# Get solver\n",
    "sampler = DWaveSampler(token=token, solver=dict(topology__type='pegasus'))\n",
    "# Define a problem (actual qubits depend on the selected QPU's working graph)\n",
    "h = {}\n",
    "J = {(2136, 4181): -1, (2136, 2151): -0.5, (2151, 4196): 0.5, (4181, 4196): 1}\n",
    "all(edge in sampler.edgelist for edge in J)     \n",
    "# Sample\n",
    "response = sampler.sample_ising(h, J, num_reads=10)    \n"
   ]
  },
  {
   "cell_type": "code",
   "execution_count": null,
   "metadata": {},
   "outputs": [],
   "source": [
    "print(sampler)   "
   ]
  },
  {
   "cell_type": "code",
   "execution_count": null,
   "metadata": {},
   "outputs": [],
   "source": [
    "sampler.properties"
   ]
  },
  {
   "cell_type": "code",
   "execution_count": null,
   "metadata": {},
   "outputs": [],
   "source": [
    "import dwave.inspector"
   ]
  },
  {
   "cell_type": "code",
   "execution_count": null,
   "metadata": {},
   "outputs": [],
   "source": [
    "dwave.inspector.show(response)"
   ]
  }
 ],
 "metadata": {
  "kernelspec": {
   "display_name": "Python 3 (ipykernel)",
   "language": "python",
   "name": "python3"
  },
  "language_info": {
   "codemirror_mode": {
    "name": "ipython",
    "version": 3
   },
   "file_extension": ".py",
   "mimetype": "text/x-python",
   "name": "python",
   "nbconvert_exporter": "python",
   "pygments_lexer": "ipython3",
   "version": "3.10.13"
  }
 },
 "nbformat": 4,
 "nbformat_minor": 4
}
