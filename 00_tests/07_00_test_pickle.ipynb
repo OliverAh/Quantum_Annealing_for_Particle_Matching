{
 "cells": [
  {
   "cell_type": "code",
   "execution_count": 1,
   "metadata": {},
   "outputs": [],
   "source": [
    "#import pickle\n",
    "\n",
    "import sys\n",
    "import pathlib\n",
    "sys.path.append(str(pathlib.PurePath(pathlib.Path.cwd().parent)))\n",
    "\n",
    "import numpy as np\n",
    "import matplotlib.pyplot as plt\n",
    "\n",
    "import dwave.system\n",
    "from dwave.system import DWaveSampler, EmbeddingComposite\n",
    "\n",
    "from src.particle_funcs import distance_matrix as distance_matrix\n",
    "import src.leap_funcs.qubo.q_matrix as q_matrix"
   ]
  },
  {
   "cell_type": "code",
   "execution_count": 2,
   "metadata": {},
   "outputs": [
    {
     "name": "stdout",
     "output_type": "stream",
     "text": [
      "[1. 0. 0. 0. 1. 0. 0. 0. 1.]\n"
     ]
    },
    {
     "name": "stderr",
     "output_type": "stream",
     "text": [
      "C:\\Users\\oahre\\AppData\\Local\\Temp\\ipykernel_35724\\1675977835.py:16: UserWarning: FigureCanvasAgg is non-interactive, and thus cannot be shown\n",
      "  fig_initial.show()\n"
     ]
    },
    {
     "data": {
      "image/png": "[encoded data removed]",
      "text/plain": [
       "<Figure size 640x480 with 1 Axes>"
      ]
     },
     "metadata": {},
     "output_type": "display_data"
    }
   ],
   "source": [
    "num_particles = 3\n",
    "\n",
    "use_dimod_exact_solver = False\n",
    "\n",
    "part_coords_n = np.zeros((num_particles,2))\n",
    "part_coords_nm1 = np.zeros((num_particles,2))\n",
    "\n",
    "for i in range(np.shape(part_coords_n)[0]):\n",
    "    part_coords_n[i,:] = [0, i]\n",
    "    part_coords_nm1[i,:] = [0.5*1, i]\n",
    "\n",
    "fig_initial, axs_initial = plt.subplots(1,1)\n",
    "axs_initial.scatter(part_coords_n[:,0], part_coords_n[:,1], label=\"n\")\n",
    "axs_initial.scatter(part_coords_nm1[:,0], part_coords_nm1[:,1], label=\"n-1\")\n",
    "fig_initial.legend()\n",
    "fig_initial.show()\n",
    "\n",
    "correct_sol = np.zeros(num_particles*num_particles)\n",
    "for i in range(1, num_particles+1):\n",
    "    correct_sol[(i-1)*num_particles + i -1] = 1.\n",
    "\n",
    "print(correct_sol)"
   ]
  },
  {
   "cell_type": "code",
   "execution_count": 3,
   "metadata": {},
   "outputs": [
    {
     "name": "stdout",
     "output_type": "stream",
     "text": [
      "min:  0.5\n",
      "tanh_min:  0.1\n",
      "min:  0.1\n",
      "min:  0.09966799462495582\n",
      "[[0.09966799 0.21995307 0.39043279]\n",
      " [0.21995307 0.09966799 0.21995307]\n",
      " [0.39043279 0.21995307 0.09966799]]\n",
      "(array([], dtype=int64), array([], dtype=int64))\n",
      "(2, 0)\n",
      "0.39043279055286406\n"
     ]
    }
   ],
   "source": [
    "distances = distance_matrix.calc_phi_ij(part_coords_n, part_coords_nm1, type='tanh_minimum', tanh_min=0.1)\n",
    "print(distances)\n",
    "ids_remove = np.where(distances > 4)\n",
    "print(ids_remove)\n",
    "print(np.shape(ids_remove))\n",
    "print(np.max(distances))"
   ]
  },
  {
   "cell_type": "code",
   "execution_count": 4,
   "metadata": {},
   "outputs": [
    {
     "name": "stdout",
     "output_type": "stream",
     "text": [
      "[[0.01  0.022 0.039 0.    0.    0.    0.    0.    0.   ]\n",
      " [0.022 0.048 0.086 0.    0.    0.    0.    0.    0.   ]\n",
      " [0.039 0.086 0.152 0.    0.    0.    0.    0.    0.   ]\n",
      " [0.    0.    0.    0.048 0.022 0.048 0.    0.    0.   ]\n",
      " [0.    0.    0.    0.022 0.01  0.022 0.    0.    0.   ]\n",
      " [0.    0.    0.    0.048 0.022 0.048 0.    0.    0.   ]\n",
      " [0.    0.    0.    0.    0.    0.    0.152 0.086 0.039]\n",
      " [0.    0.    0.    0.    0.    0.    0.086 0.048 0.022]\n",
      " [0.    0.    0.    0.    0.    0.    0.039 0.022 0.01 ]]\n"
     ]
    }
   ],
   "source": [
    "Q_dist = q_matrix.q_dist(distances)\n",
    "assert (Q_dist.transpose() == Q_dist).all(), 'Q_dist is not symmetric'\n",
    "with np.printoptions(precision=3):\n",
    "    print(Q_dist)"
   ]
  },
  {
   "cell_type": "code",
   "execution_count": 5,
   "metadata": {},
   "outputs": [
    {
     "name": "stdout",
     "output_type": "stream",
     "text": [
      "[[-1.  2.  2.  0.  0.  0.  0.  0.  0.]\n",
      " [ 0. -1.  2.  0.  0.  0.  0.  0.  0.]\n",
      " [ 0.  0. -1.  0.  0.  0.  0.  0.  0.]\n",
      " [ 0.  0.  0. -1.  2.  2.  0.  0.  0.]\n",
      " [ 0.  0.  0.  0. -1.  2.  0.  0.  0.]\n",
      " [ 0.  0.  0.  0.  0. -1.  0.  0.  0.]\n",
      " [ 0.  0.  0.  0.  0.  0. -1.  2.  2.]\n",
      " [ 0.  0.  0.  0.  0.  0.  0. -1.  2.]\n",
      " [ 0.  0.  0.  0.  0.  0.  0.  0. -1.]]\n"
     ]
    }
   ],
   "source": [
    "Q_part = q_matrix.q_part(np.shape(distances)[0])\n",
    "print(Q_part)\n",
    "#assert (Q_part.transpose() == Q_part).all(), 'Q_part is not symmetric'\n",
    "# changed to only return upper triangular part, so is definitely not symmetric"
   ]
  },
  {
   "cell_type": "code",
   "execution_count": 6,
   "metadata": {},
   "outputs": [
    {
     "name": "stdout",
     "output_type": "stream",
     "text": [
      "[[-1.  0.  0.  2.  0.  0.  2.  0.  0.]\n",
      " [ 0. -1.  0.  0.  2.  0.  0.  2.  0.]\n",
      " [ 0.  0. -1.  0.  0.  2.  0.  0.  2.]\n",
      " [ 0.  0.  0. -1.  0.  0.  2.  0.  0.]\n",
      " [ 0.  0.  0.  0. -1.  0.  0.  2.  0.]\n",
      " [ 0.  0.  0.  0.  0. -1.  0.  0.  2.]\n",
      " [ 0.  0.  0.  0.  0.  0. -1.  0.  0.]\n",
      " [ 0.  0.  0.  0.  0.  0.  0. -1.  0.]\n",
      " [ 0.  0.  0.  0.  0.  0.  0.  0. -1.]]\n"
     ]
    }
   ],
   "source": [
    "Q_pos = q_matrix.q_pos(np.shape(distances)[0])\n",
    "print(Q_pos)\n",
    "#assert (Q_pos.transpose() == Q_pos).all(), 'Q_pos is not symmetric'\n",
    "# changed to only return upper triangular part, so is definitely not symmetric"
   ]
  },
  {
   "cell_type": "code",
   "execution_count": 7,
   "metadata": {},
   "outputs": [
    {
     "name": "stdout",
     "output_type": "stream",
     "text": [
      "[[-1.99   2.022  2.039  2.     0.     0.     2.     0.     0.   ]\n",
      " [ 0.022 -1.952  2.086  0.     2.     0.     0.     2.     0.   ]\n",
      " [ 0.039  0.086 -1.848  0.     0.     2.     0.     0.     2.   ]\n",
      " [ 0.     0.     0.    -1.952  2.022  2.048  2.     0.     0.   ]\n",
      " [ 0.     0.     0.     0.022 -1.99   2.022  0.     2.     0.   ]\n",
      " [ 0.     0.     0.     0.048  0.022 -1.952  0.     0.     2.   ]\n",
      " [ 0.     0.     0.     0.     0.     0.    -1.848  2.086  2.039]\n",
      " [ 0.     0.     0.     0.     0.     0.     0.086 -1.952  2.022]\n",
      " [ 0.     0.     0.     0.     0.     0.     0.039  0.022 -1.99 ]]\n"
     ]
    }
   ],
   "source": [
    "Q_array = Q_dist + Q_part + Q_pos\n",
    "\n",
    "with np.printoptions(precision=3, suppress=True):\n",
    "    print(Q_array)"
   ]
  },
  {
   "cell_type": "code",
   "execution_count": 8,
   "metadata": {},
   "outputs": [
    {
     "name": "stdout",
     "output_type": "stream",
     "text": [
      "{(1, 1): -1.9900662908474398, (1, 2): 2.0219222818853484, (1, 3): 2.0389136532702294, (1, 4): 2.0, (1, 7): 2.0, (2, 2): -1.951620644848776, (2, 3): 2.085876892817907, (2, 5): 2.0, (2, 8): 2.0, (3, 3): -1.8475622360611035, (3, 6): 2.0, (3, 9): 2.0, (4, 4): -1.951620644848776, (4, 5): 2.0219222818853484, (4, 6): 2.048379355151224, (4, 7): 2.0, (5, 5): -1.9900662908474398, (5, 6): 2.0219222818853484, (5, 8): 2.0, (6, 6): -1.951620644848776, (6, 9): 2.0, (7, 7): -1.8475622360611035, (7, 8): 2.085876892817907, (7, 9): 2.0389136532702294, (8, 8): -1.951620644848776, (8, 9): 2.0219222818853484, (9, 9): -1.9900662908474398}\n"
     ]
    }
   ],
   "source": [
    "Q_dict = q_matrix.Q_convert_to_dict(Q_array)\n",
    "#Q_dict = q_matrix.Q_convert_to_dict(Q_array_rem)\n",
    "print(Q_dict)"
   ]
  },
  {
   "cell_type": "code",
   "execution_count": 9,
   "metadata": {},
   "outputs": [
    {
     "name": "stdout",
     "output_type": "stream",
     "text": [
      "StructuredSolver(id='Advantage_system4.1')\n",
      "dict_keys(['num_qubits', 'qubits', 'couplers', 'h_range', 'j_range', 'supported_problem_types', 'parameters', 'vfyc', 'anneal_offset_ranges', 'anneal_offset_step', 'anneal_offset_step_phi0', 'annealing_time_range', 'chip_id', 'default_annealing_time', 'default_programming_thermalization', 'default_readout_thermalization', 'extended_j_range', 'h_gain_schedule_range', 'max_anneal_schedule_points', 'max_h_gain_schedule_points', 'num_reads_range', 'per_qubit_coupling_range', 'problem_run_duration_range', 'problem_timing_data', 'programming_thermalization_range', 'readout_thermalization_range', 'tags', 'topology', 'category', 'quota_conversion_rate'])\n",
      "[0.5, 2000.0]\n",
      "[0.0, 10000.0]\n",
      "[0.0, 10000.0]\n",
      "[-18.0, 15.0]\n",
      "[-4.0, 4.0]\n",
      "[-1.0, 1.0]\n"
     ]
    }
   ],
   "source": [
    "with open('../API_Token.txt') as file:\n",
    "    token = file.readline().rstrip()\n",
    "    architecture = file.readline().rstrip()\n",
    "\n",
    "sampler = DWaveSampler(token = token, architecture='pegasus')\n",
    "print(DWaveSampler._get_solver(sampler))\n",
    "print(sampler.properties.keys())\n",
    "print(sampler.properties['annealing_time_range'])\n",
    "print(sampler.properties['programming_thermalization_range'])\n",
    "print(sampler.properties['readout_thermalization_range'])\n",
    "print(sampler.properties['per_qubit_coupling_range'])\n",
    "print(sampler.properties['h_range'])\n",
    "print(sampler.properties['j_range'])"
   ]
  },
  {
   "cell_type": "code",
   "execution_count": 10,
   "metadata": {},
   "outputs": [],
   "source": [
    "sampler_emb = EmbeddingComposite(sampler)\n",
    "sample = sampler_emb.sample_qubo(Q_dict, num_reads = 10, annealing_time=0.5, programming_thermalization=0, readout_thermalization=0)"
   ]
  },
  {
   "cell_type": "code",
   "execution_count": 12,
   "metadata": {},
   "outputs": [
    {
     "name": "stdout",
     "output_type": "stream",
     "text": [
      "   1  2  3  4  5  6  7  8  9    energy num_oc. chain_.\n",
      "0  1  0  0  0  1  0  0  0  1 -5.970199       3     0.0\n",
      "1  1  0  0  0  0  1  0  1  0 -5.893308       2     0.0\n",
      "2  0  0  1  1  0  0  0  1  0 -5.750804       2     0.0\n",
      "3  0  0  1  0  1  0  1  0  0 -5.685191       2     0.0\n",
      "4  1  0  0  0  1  1  0  1  0 -3.861452       1     0.0\n",
      "['BINARY', 5 rows, 10 samples, 9 variables]\n",
      "{'timing': {'qpu_sampling_time': 630.6, 'qpu_anneal_time_per_sample': 0.5, 'qpu_readout_time_per_sample': 42.02, 'qpu_access_time': 15391.17, 'qpu_access_overhead_time': 2169.83, 'qpu_programming_time': 14760.57, 'qpu_delay_time_per_sample': 20.54, 'total_post_processing_time': 94.0, 'post_processing_overhead_time': 94.0}, 'problem_id': 'f043a1ff-e68c-4cd3-b5ea-edd231ac9b94'}\n"
     ]
    }
   ],
   "source": [
    "print(sample)\n",
    "print(sample.info)"
   ]
  },
  {
   "cell_type": "code",
   "execution_count": 13,
   "metadata": {},
   "outputs": [],
   "source": [
    "#import dill as pickle\n",
    "#import json\n",
    "import pickle"
   ]
  },
  {
   "cell_type": "code",
   "execution_count": 14,
   "metadata": {},
   "outputs": [
    {
     "name": "stdout",
     "output_type": "stream",
     "text": [
      "b'ccopy_reg\\n_reconstructor\\np0\\n(cdimod.sampleset\\nSampleSet\\np1\\nc__builtin__\\nobject\\np2\\nNtp3\\nRp4\\n(dp5\\nV_record\\np6\\ncnumpy.core.multiarray\\n_reconstruct\\np7\\n(cnumpy\\nrecarray\\np8\\n(I0\\ntp9\\nc_codecs\\nencode\\np10\\n(Vb\\np11\\nVlatin1\\np12\\ntp13\\nRp14\\ntp15\\nRp16\\n(I1\\n(I5\\ntp17\\ncnumpy\\ndtype\\np18\\n(cnumpy\\nrecord\\np19\\nI00\\nI01\\ntp20\\nRp21\\n(I3\\nV|\\np22\\nN(Vsample\\np23\\nVenergy\\np24\\nVnum_occurrences\\np25\\nVchain_break_fraction\\np26\\ntp27\\n(dp28\\ng23\\n(g18\\n(VV9\\np29\\nI00\\nI01\\ntp30\\nRp31\\n(I3\\ng22\\n(g18\\n(Vi1\\np32\\nI00\\nI01\\ntp33\\nRp34\\n(I3\\ng22\\nNNNI-1\\nI-1\\nI0\\ntp35\\nb(I9\\ntp36\\ntp37\\nNNI9\\nI1\\nI0\\ntp38\\nbI0\\ntp39\\nsg24\\n(g18\\n(Vf8\\np40\\nI00\\nI01\\ntp41\\nRp42\\n(I3\\nV<\\np43\\nNNNI-1\\nI-1\\nI0\\ntp44\\nbI9\\ntp45\\nsg25\\n(g18\\n(Vi4\\np46\\nI00\\nI01\\ntp47\\nRp48\\n(I3\\ng43\\nNNNI-1\\nI-1\\nI0\\ntp49\\nbI17\\ntp50\\nsg26\\n(g42\\nI21\\ntp51\\nsI29\\nI1\\nI16\\ntp52\\nbI00\\ng10\\n(V\\x01\\\\u0000\\\\u0000\\\\u0000\\x01\\\\u0000\\\\u0000\\\\u0000\\x01\\xc8\\xbd0\\xd0{\\xe1\\x17\\xc0\\x03\\\\u0000\\\\u0000\\\\u0000\\\\u0000\\\\u0000\\\\u0000\\\\u0000\\\\u0000\\\\u0000\\\\u0000\\\\u0000\\x01\\\\u0000\\\\u0000\\\\u0000\\\\u0000\\x01\\\\u0000\\x01\\\\u0000\\xa8\\xd6\\xee8\\xbf\\x92\\x17\\xc0\\x02\\\\u0000\\\\u0000\\\\u0000\\\\u0000\\\\u0000\\\\u0000\\\\u0000\\\\u0000\\\\u0000\\\\u0000\\\\u0000\\\\u0000\\\\u0000\\x01\\x01\\\\u0000\\\\u0000\\\\u0000\\x01\\\\u0000pk\\xb3\\xa3\\xd2\\\\u0000\\x17\\xc0\\x02\\\\u0000\\\\u0000\\\\u0000\\\\u0000\\\\u0000\\\\u0000\\\\u0000\\\\u0000\\\\u0000\\\\u0000\\\\u0000\\\\u0000\\\\u0000\\x01\\\\u0000\\x01\\\\u0000\\x01\\\\u0000\\\\u0000X\\xe7\\xb9\\xa5\\xa2\\xbd\\x16\\xc0\\x02\\\\u0000\\\\u0000\\\\u0000\\\\u0000\\\\u0000\\\\u0000\\\\u0000\\\\u0000\\\\u0000\\\\u0000\\\\u0000\\x01\\\\u0000\\\\u0000\\\\u0000\\x01\\x01\\\\u0000\\x01\\\\u0000?) \\xbb@\\xe4\\x0e\\xc0\\x01\\\\u0000\\\\u0000\\\\u0000\\\\u0000\\\\u0000\\\\u0000\\\\u0000\\\\u0000\\\\u0000\\\\u0000\\\\u0000\\np53\\ng12\\ntp54\\nRp55\\ntp56\\nbsV_variables\\np57\\ncdimod.cyvariables\\n__pyx_unpickle_cyVariables\\np58\\n(cdimod.variables\\nVariables\\np59\\nI210854312\\nNtp60\\nRp61\\n((dp62\\nI0\\nI1\\nsI1\\nI2\\nsI2\\nI3\\nsI3\\nI4\\nsI4\\nI5\\nsI5\\nI6\\nsI6\\nI7\\nsI7\\nI8\\nsI8\\nI9\\ns(dp63\\nI1\\nI0\\nsI2\\nI1\\nsI3\\nI2\\nsI4\\nI3\\nsI5\\nI4\\nsI6\\nI5\\nsI7\\nI6\\nsI8\\nI7\\nsI9\\nI8\\nsI9\\n(dp64\\ntp65\\nbsV_info\\np66\\n(dp67\\nVtiming\\np68\\n(dp69\\nVqpu_sampling_time\\np70\\nF630.6\\nsVqpu_anneal_time_per_sample\\np71\\nF0.5\\nsVqpu_readout_time_per_sample\\np72\\nF42.02\\nsVqpu_access_time\\np73\\nF15391.17\\nsVqpu_access_overhead_time\\np74\\nF2169.83\\nsVqpu_programming_time\\np75\\nF14760.57\\nsVqpu_delay_time_per_sample\\np76\\nF20.54\\nsVtotal_post_processing_time\\np77\\nF94.0\\nsVpost_processing_overhead_time\\np78\\nF94.0\\nssVproblem_id\\np79\\nVf043a1ff-e68c-4cd3-b5ea-edd231ac9b94\\np80\\nssV_vartype\\np81\\ncdimod.vartypes\\nVartype\\np82\\n(c__builtin__\\nfrozenset\\np83\\n((lp84\\nI0\\naI1\\natp85\\nRp86\\ntp87\\nRp88\\nsb.'\n"
     ]
    }
   ],
   "source": [
    "a = pickle.dumps(sample, protocol=0)\n",
    "pickle_test_file = 'pickle_test_sampleset.txt'\n",
    "with open(pickle_test_file,'w+b') as file:\n",
    "    pickle.dump(sample, file=file, protocol=0)\n",
    "print(a)"
   ]
  },
  {
   "cell_type": "code",
   "execution_count": 18,
   "metadata": {},
   "outputs": [
    {
     "name": "stdout",
     "output_type": "stream",
     "text": [
      "   1  2  3  4  5  6  7  8  9    energy num_oc. chain_.\n",
      "0  1  0  0  0  1  0  0  0  1 -5.970199       3     0.0\n",
      "1  1  0  0  0  0  1  0  1  0 -5.893308       2     0.0\n",
      "2  0  0  1  1  0  0  0  1  0 -5.750804       2     0.0\n",
      "3  0  0  1  0  1  0  1  0  0 -5.685191       2     0.0\n",
      "4  1  0  0  0  1  1  0  1  0 -3.861452       1     0.0\n",
      "['BINARY', 5 rows, 10 samples, 9 variables]\n",
      "{'timing': {'qpu_sampling_time': 630.6, 'qpu_anneal_time_per_sample': 0.5, 'qpu_readout_time_per_sample': 42.02, 'qpu_access_time': 15391.17, 'qpu_access_overhead_time': 2169.83, 'qpu_programming_time': 14760.57, 'qpu_delay_time_per_sample': 20.54, 'total_post_processing_time': 94.0, 'post_processing_overhead_time': 94.0}, 'problem_id': 'f043a1ff-e68c-4cd3-b5ea-edd231ac9b94'}\n",
      "<class 'dimod.sampleset.SampleSet'>\n",
      "<class 'dimod.sampleset.SampleSet'>\n"
     ]
    }
   ],
   "source": [
    "with open('pickle_test_sampleset.txt', 'r+b') as file:\n",
    "    b = pickle.load(file)\n",
    "print(b)\n",
    "print(b.info)\n",
    "print(type(b))\n",
    "print(type(sample))"
   ]
  },
  {
   "cell_type": "code",
   "execution_count": 19,
   "metadata": {},
   "outputs": [
    {
     "name": "stdout",
     "output_type": "stream",
     "text": [
      "<dwave.system.samplers.dwave_sampler.DWaveSampler object at 0x000002997EA367D0>\n",
      "['__abstractmethods__', '__class__', '__delattr__', '__dict__', '__dir__', '__doc__', '__eq__', '__format__', '__ge__', '__getattribute__', '__gt__', '__hash__', '__init__', '__init_subclass__', '__le__', '__lt__', '__module__', '__ne__', '__new__', '__reduce__', '__reduce_ex__', '__repr__', '__setattr__', '__sizeof__', '__slots__', '__str__', '__subclasshook__', '__weakref__', '_abc_impl', '_adjacency', '_edgelist', '_get_solver', '_nodelist', '_parameters', '_properties', '_solver_penalty', 'adjacency', 'client', 'edgelist', 'failover', 'nodelist', 'parameters', 'properties', 'remove_unknown_kwargs', 'retry_interval', 'sample', 'sample_ising', 'sample_qubo', 'solver', 'structure', 'to_networkx_graph', 'trigger_failover', 'valid_bqm_graph', 'validate_anneal_schedule', 'warnings_default']\n",
      "dict_keys(['failover', 'retry_interval', '_solver_penalty', 'client', 'solver', '_properties', '_parameters', '_nodelist', '_edgelist', '_adjacency'])\n"
     ]
    }
   ],
   "source": [
    "a = sampler\n",
    "print(a)\n",
    "print(dir(a))\n",
    "#a.__getstate__ = a.__dict__.copy()\n",
    "b = a.__dict__\n",
    "print(b.keys())\n",
    "with open('sampler_dict.txt', 'w') as file:\n",
    "    for key in b.keys():\n",
    "        value = b[key]\n",
    "        file.write('{key} {value}\\n'.format(key=key, value=value))\n",
    "#pickle.dumps(a.__reduce__())\n",
    "#pickle.dumps(b)\n",
    "#pickle.dumps(a.__dict__)"
   ]
  },
  {
   "cell_type": "code",
   "execution_count": 20,
   "metadata": {},
   "outputs": [
    {
     "name": "stdout",
     "output_type": "stream",
     "text": [
      "['ANY_STATUS_NO_RESULT', 'ANY_STATUS_ONGOING', 'DEFAULTS', 'DEFAULT_API_ENDPOINT', 'DEFAULT_API_REGION', 'STATUS_CANCELLED', 'STATUS_COMPLETE', 'STATUS_FAILED', 'STATUS_IN_PROGRESS', 'STATUS_PENDING', '_CANCEL_THREAD_COUNT', '_DEPRECATED_CONFIG_PROPERTIES_MAP', '_ENCODE_PROBLEM_THREAD_COUNT', '_LOAD_THREAD_COUNT', '_POLL_GROUP_TIMEFRAME', '_POLL_THREAD_COUNT', '_REGIONS_CACHE_MAXAGE', '_SOLVERS_CACHE_MAXAGE', '_STATUS_QUERY_SIZE', '_SUBMISSION_THREAD_COUNT', '_SUBMIT_BATCH_SIZE', '_UPLOAD_PART_RETRIES', '_UPLOAD_PART_SIZE_BYTES', '_UPLOAD_PART_THREAD_COUNT', '_UPLOAD_PROBLEM_THREAD_COUNT', '_UPLOAD_REQUEST_RETRIES', '_UPLOAD_RETRIES_BACKOFF', '__class__', '__delattr__', '__dict__', '__dir__', '__doc__', '__enter__', '__eq__', '__exit__', '__format__', '__ge__', '__getattribute__', '__gt__', '__hash__', '__init__', '__init_subclass__', '__le__', '__lt__', '__module__', '__ne__', '__new__', '__reduce__', '__reduce_ex__', '__repr__', '__setattr__', '__sizeof__', '__slotnames__', '__str__', '__subclasshook__', '__weakref__', '_cancel', '_cancel_queue', '_cancel_workers', '_checksum_b64', '_checksum_hex', '_combine_uploaded_parts', '_combined_checksum', '_digest', '_do_cancel_problems', '_do_load_results', '_do_poll_problems', '_do_submit_problems', '_encode_problem_executor', '_failsafe_get_multipart_upload_status', '_fetch_solvers', '_get_multipart_upload_status', '_handle_problem_status', '_initiate_multipart_upload', '_legacy_config_property_proxy', '_load', '_load_queue', '_load_workers', '_poll', '_poll_queue', '_poll_workers', '_sapi_request', '_submission_queue', '_submission_workers', '_submit', '_upload_multipart_part', '_upload_part_executor', '_upload_part_worker', '_upload_problem_executor', '_upload_problem_worker', '_uploaded_parts_from_problem_status', '_user_agent', 'client_cert', 'close', 'config', 'connection_close', 'create_session', 'default_solver', 'defaults', 'endpoint', 'from_config', 'get_regions', 'get_solver', 'get_solvers', 'headers', 'http_retry_backoff_factor', 'http_retry_backoff_max', 'http_retry_connect', 'http_retry_read', 'http_retry_redirect', 'http_retry_status', 'http_retry_total', 'is_solver_handled', 'leap_api_endpoint', 'metadata_api_endpoint', 'permissive_ssl', 'poll_backoff_base', 'poll_backoff_max', 'poll_backoff_min', 'polling_timeout', 'proxy', 'region', 'request_timeout', 'retrieve_answer', 'session', 'token', 'upload_problem_encoded']\n"
     ]
    },
    {
     "data": {
      "text/plain": [
       "{'defaults': {'config_file': None,\n",
       "  'profile': None,\n",
       "  'client': 'base',\n",
       "  'metadata_api_endpoint': 'https://cloud.dwavesys.com/metadata/v1/',\n",
       "  'region': 'na-west-1',\n",
       "  'leap_api_endpoint': None,\n",
       "  'leap_client_id': None,\n",
       "  'endpoint': None,\n",
       "  'token': None,\n",
       "  'solver': {'order_by': '-num_active_qubits'},\n",
       "  'proxy': None,\n",
       "  'permissive_ssl': False,\n",
       "  'request_timeout': 60,\n",
       "  'polling_timeout': None,\n",
       "  'connection_close': False,\n",
       "  'headers': None,\n",
       "  'client_cert': None,\n",
       "  'client_cert_key': None,\n",
       "  'poll_backoff_min': 0.05,\n",
       "  'poll_backoff_max': 60,\n",
       "  'poll_backoff_base': 1.3,\n",
       "  'http_retry_total': 10,\n",
       "  'http_retry_connect': None,\n",
       "  'http_retry_read': None,\n",
       "  'http_retry_redirect': None,\n",
       "  'http_retry_status': None,\n",
       "  'http_retry_backoff_factor': 0.01,\n",
       "  'http_retry_backoff_max': 60},\n",
       " 'config': ClientConfig(metadata_api_endpoint='https://cloud.dwavesys.com/metadata/v1/', region='na-west-1', leap_api_endpoint='https://cloud.dwavesys.com/leap/api/', endpoint='https://cloud.dwavesys.com/sapi/', token='DEV-fc8a187f2ee0d77f14d378f6ac9a235a54abebb1', leap_client_id=None, client='base', solver={'order_by': '-num_active_qubits'}, polling_schedule=PollingSchedule(backoff_min=0.05, backoff_max=60.0, backoff_base=1.3), polling_timeout=None, cert=None, headers={}, proxy=None, permissive_ssl=False, connection_close=False, request_retry=RequestRetryConfig(total=10, connect=None, read=None, redirect=None, status=None, other=None, backoff_factor=0.01, backoff_max=60.0), request_timeout=60.0),\n",
       " '_user_agent': 'dwave-cloud-client/0.11.1 python/3.10.13 CPython/3.10.13-64bit machine/AMD64 system/Windows platform/Windows-10-10.0.19045-SP0',\n",
       " 'session': <dwave.cloud.utils.BaseUrlSession at 0x1d5ff07a560>,\n",
       " '_submission_queue': <queue.Queue at 0x1d5fef51e70>,\n",
       " '_submission_workers': [<Thread(Thread-5 (_do_submit_problems), started daemon 17328)>,\n",
       "  <Thread(Thread-6 (_do_submit_problems), started daemon 13572)>,\n",
       "  <Thread(Thread-7 (_do_submit_problems), started daemon 27228)>,\n",
       "  <Thread(Thread-8 (_do_submit_problems), started daemon 31416)>,\n",
       "  <Thread(Thread-9 (_do_submit_problems), started daemon 4952)>],\n",
       " '_cancel_queue': <queue.Queue at 0x1d5885703a0>,\n",
       " '_cancel_workers': [<Thread(Thread-10 (_do_cancel_problems), started daemon 30224)>],\n",
       " '_poll_queue': <queue.PriorityQueue at 0x1d5885709a0>,\n",
       " '_poll_workers': [<Thread(Thread-11 (_do_poll_problems), started daemon 14652)>,\n",
       "  <Thread(Thread-12 (_do_poll_problems), started daemon 19072)>],\n",
       " '_load_queue': <queue.Queue at 0x1d588571600>,\n",
       " '_load_workers': [<Thread(Thread-13 (_do_load_results), started daemon 29056)>,\n",
       "  <Thread(Thread-14 (_do_load_results), started daemon 26896)>,\n",
       "  <Thread(Thread-15 (_do_load_results), started daemon 30652)>,\n",
       "  <Thread(Thread-16 (_do_load_results), started daemon 16476)>,\n",
       "  <Thread(Thread-17 (_do_load_results), started daemon 12652)>],\n",
       " '_upload_problem_executor': <concurrent.futures.thread.ThreadPoolExecutor at 0x1d588573100>,\n",
       " '_upload_part_executor': <dwave.cloud.concurrency.PriorityThreadPoolExecutor at 0x1d588572f50>,\n",
       " '_encode_problem_executor': <concurrent.futures.thread.ThreadPoolExecutor at 0x1d588573310>}"
      ]
     },
     "execution_count": 20,
     "metadata": {},
     "output_type": "execute_result"
    }
   ],
   "source": [
    "print(dir(a.__dict__['client']))\n",
    "a.__dict__['client'].__dict__\n"
   ]
  },
  {
   "cell_type": "code",
   "execution_count": 20,
   "metadata": {},
   "outputs": [
    {
     "ename": "PicklingError",
     "evalue": "Can't pickle <class '_thread.lock'>: attribute lookup lock on _thread failed",
     "output_type": "error",
     "traceback": [
      "\u001b[1;31m---------------------------------------------------------------------------\u001b[0m",
      "\u001b[1;31mPicklingError\u001b[0m                             Traceback (most recent call last)",
      "\u001b[1;32md:\\RWTH\\OneDrive - Students RWTH Aachen University\\RWTH\\Simulation_Sciences\\Masterthesis\\04_Code\\Quantum_Annealing_for_Particle_Matching\\00_tests\\07_test_pickle.ipynb Cell 17\u001b[0m line \u001b[0;36m4\n\u001b[0;32m      <a href='vscode-notebook-cell:/d%3A/RWTH/OneDrive%20-%20Students%20RWTH%20Aachen%20University/RWTH/Simulation_Sciences/Masterthesis/04_Code/Quantum_Annealing_for_Particle_Matching/00_tests/07_test_pickle.ipynb#X22sZmlsZQ%3D%3D?line=1'>2</a>\u001b[0m pickle_test_file \u001b[39m=\u001b[39m \u001b[39m'\u001b[39m\u001b[39mpickle_test_embedding_composite.txt\u001b[39m\u001b[39m'\u001b[39m\n\u001b[0;32m      <a href='vscode-notebook-cell:/d%3A/RWTH/OneDrive%20-%20Students%20RWTH%20Aachen%20University/RWTH/Simulation_Sciences/Masterthesis/04_Code/Quantum_Annealing_for_Particle_Matching/00_tests/07_test_pickle.ipynb#X22sZmlsZQ%3D%3D?line=2'>3</a>\u001b[0m \u001b[39mwith\u001b[39;00m \u001b[39mopen\u001b[39m(pickle_test_file,\u001b[39m'\u001b[39m\u001b[39mw+b\u001b[39m\u001b[39m'\u001b[39m) \u001b[39mas\u001b[39;00m file:\n\u001b[1;32m----> <a href='vscode-notebook-cell:/d%3A/RWTH/OneDrive%20-%20Students%20RWTH%20Aachen%20University/RWTH/Simulation_Sciences/Masterthesis/04_Code/Quantum_Annealing_for_Particle_Matching/00_tests/07_test_pickle.ipynb#X22sZmlsZQ%3D%3D?line=3'>4</a>\u001b[0m     pickle\u001b[39m.\u001b[39;49mdump(sampler, file\u001b[39m=\u001b[39;49mfile, protocol\u001b[39m=\u001b[39;49m\u001b[39m0\u001b[39;49m)\n",
      "\u001b[1;31mPicklingError\u001b[0m: Can't pickle <class '_thread.lock'>: attribute lookup lock on _thread failed"
     ]
    }
   ],
   "source": [
    "#a = pickle.dumps(sampler_emb, protocol=0)\n",
    "pickle_test_file = 'pickle_test_embedding_composite.txt'\n",
    "with open(pickle_test_file,'w+b') as file:\n",
    "    pickle.dump(sampler, file=file, protocol=0)\n",
    "#print(a)"
   ]
  },
  {
   "cell_type": "code",
   "execution_count": null,
   "metadata": {},
   "outputs": [],
   "source": [
    "with open('pickle_test_sampleset.txt', 'r+b') as file:\n",
    "    b = pickle.load(file)\n",
    "print(b)"
   ]
  }
 ],
 "metadata": {
  "kernelspec": {
   "display_name": "masterth",
   "language": "python",
   "name": "python3"
  },
  "language_info": {
   "codemirror_mode": {
    "name": "ipython",
    "version": 3
   },
   "file_extension": ".py",
   "mimetype": "text/x-python",
   "name": "python",
   "nbconvert_exporter": "python",
   "pygments_lexer": "ipython3",
   "version": "3.10.13"
  }
 },
 "nbformat": 4,
 "nbformat_minor": 2
}
