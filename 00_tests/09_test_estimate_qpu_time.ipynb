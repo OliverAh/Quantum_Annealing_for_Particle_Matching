{
 "cells": [
  {
   "cell_type": "code",
   "execution_count": 27,
   "metadata": {},
   "outputs": [],
   "source": [
    "import sys\n",
    "import pathlib\n",
    "sys.path.append(str(pathlib.PurePath(pathlib.Path.cwd().parent)))\n",
    "\n",
    "import numpy as np\n",
    "import matplotlib.pyplot as plt\n",
    "import pandas as pd\n",
    "\n",
    "import dwave.system\n",
    "from dwave.system import DWaveSampler, EmbeddingComposite, FixedEmbeddingComposite\n",
    "\n",
    "import minorminer\n",
    "#import dwave.inspector\n",
    "\n",
    "from src.particle_funcs import distance_matrix as distance_matrix\n",
    "import src.leap_funcs.qubo.q_matrix as q_matrix"
   ]
  },
  {
   "cell_type": "code",
   "execution_count": 2,
   "metadata": {},
   "outputs": [
    {
     "name": "stdout",
     "output_type": "stream",
     "text": [
      "[1. 0. 0. 0. 0. 0. 1. 0. 0. 0. 0. 0. 1. 0. 0. 0. 0. 0. 1. 0. 0. 0. 0. 0.\n",
      " 1.]\n"
     ]
    },
    {
     "name": "stderr",
     "output_type": "stream",
     "text": [
      "C:\\Users\\oahre\\AppData\\Local\\Temp\\ipykernel_20984\\4123327838.py:16: UserWarning: FigureCanvasAgg is non-interactive, and thus cannot be shown\n",
      "  fig_initial.show()\n"
     ]
    },
    {
     "data": {
      "image/png": "[encoded data removed]",
      "text/plain": [
       "<Figure size 640x480 with 1 Axes>"
      ]
     },
     "metadata": {},
     "output_type": "display_data"
    }
   ],
   "source": [
    "num_particles = 5\n",
    "\n",
    "use_dimod_exact_solver = False\n",
    "\n",
    "part_coords_n = np.zeros((num_particles,2))\n",
    "part_coords_nm1 = np.zeros((num_particles,2))\n",
    "\n",
    "for i in range(np.shape(part_coords_n)[0]):\n",
    "    part_coords_n[i,:] = [0, i]\n",
    "    part_coords_nm1[i,:] = [0.5*1, i]\n",
    "\n",
    "fig_initial, axs_initial = plt.subplots(1,1)\n",
    "axs_initial.scatter(part_coords_n[:,0], part_coords_n[:,1], label=\"n\")\n",
    "axs_initial.scatter(part_coords_nm1[:,0], part_coords_nm1[:,1], label=\"n-1\")\n",
    "fig_initial.legend()\n",
    "fig_initial.show()\n",
    "\n",
    "correct_sol = np.zeros(num_particles*num_particles)\n",
    "for i in range(1, num_particles+1):\n",
    "    correct_sol[(i-1)*num_particles + i -1] = 1.\n",
    "\n",
    "print(correct_sol)"
   ]
  },
  {
   "cell_type": "code",
   "execution_count": 3,
   "metadata": {},
   "outputs": [],
   "source": [
    "distances = distance_matrix.calc_phi_ij(part_coords_n, part_coords_nm1)\n",
    "#print(distances)"
   ]
  },
  {
   "cell_type": "code",
   "execution_count": 4,
   "metadata": {},
   "outputs": [],
   "source": [
    "Q_dist = q_matrix.q_dist(distances)\n",
    "#assert (Q_dist.transpose() == Q_dist).all(), 'Q_dist is not symmetric'\n",
    "#with np.printoptions(precision=3):\n",
    "#    print(Q_dist)\n",
    "\n",
    "Q_dist_diag = q_matrix.q_dist_diag(distances)\n",
    "assert (Q_dist_diag.transpose() == Q_dist_diag).all(), 'Q_dist is not symmetric'\n",
    "#with np.printoptions(precision=3):\n",
    "#    print(Q_dist_diag)"
   ]
  },
  {
   "cell_type": "code",
   "execution_count": 5,
   "metadata": {},
   "outputs": [],
   "source": [
    "Q_part = q_matrix.q_part(np.shape(distances)[0])\n",
    "#print(Q_part)\n",
    "#assert (Q_part.transpose() == Q_part).all(), 'Q_part is not symmetric'\n",
    "# changed to only return upper triangular part, so is definitely not symmetric"
   ]
  },
  {
   "cell_type": "code",
   "execution_count": 6,
   "metadata": {},
   "outputs": [],
   "source": [
    "Q_pos = q_matrix.q_pos(np.shape(distances)[0])\n",
    "#print(Q_pos)\n",
    "#assert (Q_pos.transpose() == Q_pos).all(), 'Q_pos is not symmetric'\n",
    "# changed to only return upper triangular part, so is definitely not symmetric"
   ]
  },
  {
   "cell_type": "code",
   "execution_count": 7,
   "metadata": {},
   "outputs": [],
   "source": [
    "Q_array = Q_dist_diag + Q_part + Q_pos\n",
    "\n",
    "#with np.printoptions(precision=3, suppress=True):\n",
    "#    print(Q_array)"
   ]
  },
  {
   "cell_type": "code",
   "execution_count": 8,
   "metadata": {},
   "outputs": [],
   "source": [
    "Q_dict = q_matrix.Q_convert_to_dict(Q_array)\n",
    "#Q_dict = q_matrix.Q_convert_to_dict(Q_array_rem)\n",
    "#print(Q_dict)"
   ]
  },
  {
   "cell_type": "code",
   "execution_count": 9,
   "metadata": {},
   "outputs": [
    {
     "name": "stdout",
     "output_type": "stream",
     "text": [
      "<class 'dwave.system.samplers.dwave_sampler.DWaveSampler'>\n",
      "StructuredSolver(id='Advantage_system5.4')\n",
      "['__abstractmethods__', '__class__', '__delattr__', '__dict__', '__dir__', '__doc__', '__eq__', '__format__', '__ge__', '__getattribute__', '__getstate__', '__gt__', '__hash__', '__init__', '__init_subclass__', '__le__', '__lt__', '__module__', '__ne__', '__new__', '__reduce__', '__reduce_ex__', '__repr__', '__setattr__', '__sizeof__', '__slots__', '__str__', '__subclasshook__', '__weakref__', '_abc_impl', '_get_solver', '_solver_penalty', 'adjacency', 'client', 'edgelist', 'failover', 'nodelist', 'parameters', 'properties', 'remove_unknown_kwargs', 'retry_interval', 'sample', 'sample_ising', 'sample_qubo', 'solver', 'structure', 'to_networkx_graph', 'trigger_failover', 'valid_bqm_graph', 'validate_anneal_schedule', 'warnings_default']\n",
      "dict_keys(['num_qubits', 'qubits', 'couplers', 'h_range', 'j_range', 'supported_problem_types', 'parameters', 'vfyc', 'anneal_offset_ranges', 'anneal_offset_step', 'anneal_offset_step_phi0', 'annealing_time_range', 'chip_id', 'default_annealing_time', 'default_programming_thermalization', 'default_readout_thermalization', 'extended_j_range', 'h_gain_schedule_range', 'max_anneal_schedule_points', 'max_h_gain_schedule_points', 'num_reads_range', 'per_qubit_coupling_range', 'problem_run_duration_range', 'problem_timing_data', 'programming_thermalization_range', 'readout_thermalization_range', 'tags', 'topology', 'category', 'quota_conversion_rate'])\n",
      "[0.5, 2000.0]\n",
      "20.0\n",
      "[0.0, 10000.0]\n",
      "1000.0\n",
      "[0.0, 10000.0]\n",
      "0.0\n",
      "[-18.0, 15.0]\n",
      "[-4.0, 4.0]\n",
      "[-1.0, 1.0]\n",
      "False\n",
      "<class 'dwave.system.samplers.dwave_sampler.DWaveSampler'>\n",
      "()\n"
     ]
    }
   ],
   "source": [
    "with open('../API_Token.txt') as file:\n",
    "    token = file.readline().rstrip()\n",
    "    architecture = file.readline().rstrip()\n",
    "\n",
    "sampler = DWaveSampler(token = token, architecture='pegasus', region='eu-central-1')\n",
    "print(DWaveSampler)\n",
    "print(DWaveSampler._get_solver(sampler))\n",
    "print(dir(sampler))\n",
    "print(sampler.properties.keys())\n",
    "print(sampler.properties['annealing_time_range'])\n",
    "print(sampler.properties['default_annealing_time'])\n",
    "print(sampler.properties['programming_thermalization_range'])\n",
    "print(sampler.properties['default_programming_thermalization'])\n",
    "print(sampler.properties['readout_thermalization_range'])\n",
    "print(sampler.properties['default_readout_thermalization'])\n",
    "print(sampler.properties['per_qubit_coupling_range'])\n",
    "print(sampler.properties['h_range'])\n",
    "print(sampler.properties['j_range'])\n",
    "print(sampler.properties['vfyc'])\n",
    "print(sampler.__class__)\n",
    "print(sampler.__slots__)\n",
    "#print(sampler.__getstate__)\n",
    "#sampler.__reduce__()\n",
    "#sampler.properties.values()"
   ]
  },
  {
   "cell_type": "code",
   "execution_count": 10,
   "metadata": {},
   "outputs": [
    {
     "data": {
      "text/plain": [
       "['parameters']"
      ]
     },
     "execution_count": 10,
     "metadata": {},
     "output_type": "execute_result"
    }
   ],
   "source": [
    "composite = EmbeddingComposite(sampler)\n",
    "composite.parameters['annealing_time']"
   ]
  },
  {
   "cell_type": "code",
   "execution_count": 11,
   "metadata": {},
   "outputs": [],
   "source": [
    "#sampleset= composite.sample_qubo(Q_dict, num_reads=1000, annealing_time=1, return_embedding=True, answer_mode='raw')"
   ]
  },
  {
   "cell_type": "code",
   "execution_count": 12,
   "metadata": {},
   "outputs": [
    {
     "data": {
      "text/plain": [
       "178923.40251463672"
      ]
     },
     "execution_count": 12,
     "metadata": {},
     "output_type": "execute_result"
    }
   ],
   "source": [
    "composite.child.client.get_solver().estimate_qpu_access_time(num_qubits=5000, num_reads=1000, annealing_time=20, programming_thermalization=1000, readout_thermalization=0)"
   ]
  },
  {
   "cell_type": "code",
   "execution_count": 13,
   "metadata": {},
   "outputs": [],
   "source": [
    "sampler_graph = sampler.to_networkx_graph()\n",
    "embedding = minorminer.find_embedding(S=Q_dict, T=sampler_graph)"
   ]
  },
  {
   "cell_type": "code",
   "execution_count": 14,
   "metadata": {},
   "outputs": [],
   "source": [
    "composite_2 = FixedEmbeddingComposite(sampler, embedding)"
   ]
  },
  {
   "cell_type": "code",
   "execution_count": 15,
   "metadata": {},
   "outputs": [
    {
     "name": "stdout",
     "output_type": "stream",
     "text": [
      "is_valid_embedding:  True\n"
     ]
    }
   ],
   "source": [
    "diagnosis = dwave.embedding.diagnose_embedding(embedding, Q_dict.keys(), sampler_graph)\n",
    "for item in diagnosis:\n",
    "    print(item)\n",
    "print('is_valid_embedding: ', dwave.embedding.is_valid_embedding(embedding, Q_dict.keys(), sampler_graph))"
   ]
  },
  {
   "cell_type": "code",
   "execution_count": 16,
   "metadata": {},
   "outputs": [
    {
     "data": {
      "text/plain": [
       "dict_values([[900, 901], [855, 856, 3259], [3229, 1021, 3260], [930, 931, 3079], [886, 3214], [3125, 3124], [3094, 960], [885, 3019], [3139, 810], [1005, 3065, 3064], [3109, 3110], [2974, 870], [840, 841], [1096, 3095], [3155, 1081], [3004, 1036, 1035], [3170, 3169], [3140, 1020], [975], [3049], [825, 3034, 3033], [990, 3199], [946, 3184], [915, 916], [3154, 871]])"
      ]
     },
     "execution_count": 16,
     "metadata": {},
     "output_type": "execute_result"
    }
   ],
   "source": [
    "embedding.values()"
   ]
  },
  {
   "cell_type": "code",
   "execution_count": 17,
   "metadata": {},
   "outputs": [
    {
     "name": "stdout",
     "output_type": "stream",
     "text": [
      "54\n",
      "54\n"
     ]
    }
   ],
   "source": [
    "print(len(set(inner for outer in embedding.values() for inner in outer)))\n",
    "print(len([inner for outer in embedding.values() for inner in outer]))"
   ]
  },
  {
   "cell_type": "code",
   "execution_count": 18,
   "metadata": {},
   "outputs": [
    {
     "data": {
      "text/plain": [
       "54"
      ]
     },
     "execution_count": 18,
     "metadata": {},
     "output_type": "execute_result"
    }
   ],
   "source": [
    "num_qubits_comp_2 = len(set(inner for outer in embedding.values() for inner in outer))\n",
    "num_qubits_comp_2"
   ]
  },
  {
   "cell_type": "code",
   "execution_count": 19,
   "metadata": {},
   "outputs": [
    {
     "name": "stdout",
     "output_type": "stream",
     "text": [
      "14422.953630297587\n",
      "14422.953630297587\n"
     ]
    }
   ],
   "source": [
    "print(composite_2.child.solver.estimate_qpu_access_time(num_qubits=num_qubits_comp_2))\n",
    "composite_2.parameters['annealing_time'] = 1\n",
    "print(composite_2.child.solver.estimate_qpu_access_time(num_qubits=num_qubits_comp_2))"
   ]
  },
  {
   "cell_type": "code",
   "execution_count": 20,
   "metadata": {},
   "outputs": [
    {
     "name": "stdout",
     "output_type": "stream",
     "text": [
      "[0.5, 2000.0]\n",
      "20.0\n",
      "[0.0, 10000.0]\n",
      "1000.0\n",
      "[0.0, 10000.0]\n",
      "0.0\n"
     ]
    }
   ],
   "source": [
    "print(sampler.properties['annealing_time_range'])\n",
    "print(sampler.properties['default_annealing_time'])\n",
    "print(sampler.properties['programming_thermalization_range'])\n",
    "print(sampler.properties['default_programming_thermalization'])\n",
    "print(sampler.properties['readout_thermalization_range'])\n",
    "print(sampler.properties['default_readout_thermalization'])\n",
    "\n",
    "params = {'label' : 'superdupernice label',\n",
    "          'annealing_time': 5, \n",
    "          'num_reads': 100, \n",
    "          'answer_mode': 'raw', \n",
    "          'programming_thermalization': 1000, \n",
    "          'readout_thermalization': 100}"
   ]
  },
  {
   "cell_type": "code",
   "execution_count": 21,
   "metadata": {},
   "outputs": [
    {
     "name": "stdout",
     "output_type": "stream",
     "text": [
      "36740.743029758814\n"
     ]
    }
   ],
   "source": [
    "print(composite_2.child.solver.estimate_qpu_access_time(num_qubits=num_qubits_comp_2, **params))"
   ]
  },
  {
   "cell_type": "code",
   "execution_count": 22,
   "metadata": {},
   "outputs": [
    {
     "data": {
      "text/plain": [
       "{'timing': {'qpu_sampling_time': 20188.0,\n",
       "  'qpu_anneal_time_per_sample': 5.0,\n",
       "  'qpu_readout_time_per_sample': 76.34,\n",
       "  'qpu_access_time': 35068.45,\n",
       "  'qpu_access_overhead_time': 2269.55,\n",
       "  'qpu_programming_time': 14880.45,\n",
       "  'qpu_delay_time_per_sample': 120.54,\n",
       "  'total_post_processing_time': 3378.0,\n",
       "  'post_processing_overhead_time': 3378.0},\n",
       " 'problem_id': 'ac93faaf-6f1a-4f82-af7a-7fcbe34e8130',\n",
       " 'problem_label': 'superdupernice label'}"
      ]
     },
     "execution_count": 22,
     "metadata": {},
     "output_type": "execute_result"
    }
   ],
   "source": [
    "sampleset_comp_2 = composite_2.sample_qubo(Q_dict, **params)\n",
    "sampleset_comp_2.info"
   ]
  },
  {
   "cell_type": "code",
   "execution_count": 23,
   "metadata": {},
   "outputs": [
    {
     "data": {
      "text/html": [
       "<div>\n",
       "<style scoped>\n",
       "    .dataframe tbody tr th:only-of-type {\n",
       "        vertical-align: middle;\n",
       "    }\n",
       "\n",
       "    .dataframe tbody tr th {\n",
       "        vertical-align: top;\n",
       "    }\n",
       "\n",
       "    .dataframe thead th {\n",
       "        text-align: right;\n",
       "    }\n",
       "</style>\n",
       "<table border=\"1\" class=\"dataframe\">\n",
       "  <thead>\n",
       "    <tr style=\"text-align: right;\">\n",
       "      <th></th>\n",
       "      <th>1</th>\n",
       "      <th>2</th>\n",
       "      <th>3</th>\n",
       "      <th>4</th>\n",
       "      <th>5</th>\n",
       "      <th>6</th>\n",
       "      <th>7</th>\n",
       "      <th>8</th>\n",
       "      <th>9</th>\n",
       "      <th>10</th>\n",
       "      <th>...</th>\n",
       "      <th>19</th>\n",
       "      <th>20</th>\n",
       "      <th>21</th>\n",
       "      <th>22</th>\n",
       "      <th>23</th>\n",
       "      <th>24</th>\n",
       "      <th>25</th>\n",
       "      <th>chain_break_fraction</th>\n",
       "      <th>energy</th>\n",
       "      <th>num_occurrences</th>\n",
       "    </tr>\n",
       "  </thead>\n",
       "  <tbody>\n",
       "    <tr>\n",
       "      <th>99</th>\n",
       "      <td>1</td>\n",
       "      <td>0</td>\n",
       "      <td>0</td>\n",
       "      <td>0</td>\n",
       "      <td>0</td>\n",
       "      <td>0</td>\n",
       "      <td>1</td>\n",
       "      <td>0</td>\n",
       "      <td>0</td>\n",
       "      <td>0</td>\n",
       "      <td>...</td>\n",
       "      <td>1</td>\n",
       "      <td>0</td>\n",
       "      <td>0</td>\n",
       "      <td>0</td>\n",
       "      <td>0</td>\n",
       "      <td>0</td>\n",
       "      <td>1</td>\n",
       "      <td>0.0</td>\n",
       "      <td>-7.500000</td>\n",
       "      <td>1</td>\n",
       "    </tr>\n",
       "    <tr>\n",
       "      <th>46</th>\n",
       "      <td>1</td>\n",
       "      <td>0</td>\n",
       "      <td>0</td>\n",
       "      <td>0</td>\n",
       "      <td>0</td>\n",
       "      <td>0</td>\n",
       "      <td>1</td>\n",
       "      <td>0</td>\n",
       "      <td>0</td>\n",
       "      <td>0</td>\n",
       "      <td>...</td>\n",
       "      <td>1</td>\n",
       "      <td>0</td>\n",
       "      <td>0</td>\n",
       "      <td>0</td>\n",
       "      <td>0</td>\n",
       "      <td>0</td>\n",
       "      <td>1</td>\n",
       "      <td>0.0</td>\n",
       "      <td>-7.500000</td>\n",
       "      <td>1</td>\n",
       "    </tr>\n",
       "    <tr>\n",
       "      <th>52</th>\n",
       "      <td>1</td>\n",
       "      <td>0</td>\n",
       "      <td>0</td>\n",
       "      <td>0</td>\n",
       "      <td>0</td>\n",
       "      <td>0</td>\n",
       "      <td>1</td>\n",
       "      <td>0</td>\n",
       "      <td>0</td>\n",
       "      <td>0</td>\n",
       "      <td>...</td>\n",
       "      <td>1</td>\n",
       "      <td>0</td>\n",
       "      <td>0</td>\n",
       "      <td>0</td>\n",
       "      <td>0</td>\n",
       "      <td>0</td>\n",
       "      <td>1</td>\n",
       "      <td>0.0</td>\n",
       "      <td>-7.500000</td>\n",
       "      <td>1</td>\n",
       "    </tr>\n",
       "    <tr>\n",
       "      <th>33</th>\n",
       "      <td>1</td>\n",
       "      <td>0</td>\n",
       "      <td>0</td>\n",
       "      <td>0</td>\n",
       "      <td>0</td>\n",
       "      <td>0</td>\n",
       "      <td>1</td>\n",
       "      <td>0</td>\n",
       "      <td>0</td>\n",
       "      <td>0</td>\n",
       "      <td>...</td>\n",
       "      <td>1</td>\n",
       "      <td>0</td>\n",
       "      <td>0</td>\n",
       "      <td>0</td>\n",
       "      <td>0</td>\n",
       "      <td>0</td>\n",
       "      <td>1</td>\n",
       "      <td>0.0</td>\n",
       "      <td>-7.500000</td>\n",
       "      <td>1</td>\n",
       "    </tr>\n",
       "    <tr>\n",
       "      <th>32</th>\n",
       "      <td>1</td>\n",
       "      <td>0</td>\n",
       "      <td>0</td>\n",
       "      <td>0</td>\n",
       "      <td>0</td>\n",
       "      <td>0</td>\n",
       "      <td>1</td>\n",
       "      <td>0</td>\n",
       "      <td>0</td>\n",
       "      <td>0</td>\n",
       "      <td>...</td>\n",
       "      <td>1</td>\n",
       "      <td>0</td>\n",
       "      <td>0</td>\n",
       "      <td>0</td>\n",
       "      <td>0</td>\n",
       "      <td>0</td>\n",
       "      <td>1</td>\n",
       "      <td>0.0</td>\n",
       "      <td>-7.500000</td>\n",
       "      <td>1</td>\n",
       "    </tr>\n",
       "    <tr>\n",
       "      <th>...</th>\n",
       "      <td>...</td>\n",
       "      <td>...</td>\n",
       "      <td>...</td>\n",
       "      <td>...</td>\n",
       "      <td>...</td>\n",
       "      <td>...</td>\n",
       "      <td>...</td>\n",
       "      <td>...</td>\n",
       "      <td>...</td>\n",
       "      <td>...</td>\n",
       "      <td>...</td>\n",
       "      <td>...</td>\n",
       "      <td>...</td>\n",
       "      <td>...</td>\n",
       "      <td>...</td>\n",
       "      <td>...</td>\n",
       "      <td>...</td>\n",
       "      <td>...</td>\n",
       "      <td>...</td>\n",
       "      <td>...</td>\n",
       "      <td>...</td>\n",
       "    </tr>\n",
       "    <tr>\n",
       "      <th>42</th>\n",
       "      <td>1</td>\n",
       "      <td>0</td>\n",
       "      <td>0</td>\n",
       "      <td>0</td>\n",
       "      <td>0</td>\n",
       "      <td>0</td>\n",
       "      <td>0</td>\n",
       "      <td>1</td>\n",
       "      <td>0</td>\n",
       "      <td>0</td>\n",
       "      <td>...</td>\n",
       "      <td>0</td>\n",
       "      <td>1</td>\n",
       "      <td>0</td>\n",
       "      <td>1</td>\n",
       "      <td>0</td>\n",
       "      <td>0</td>\n",
       "      <td>0</td>\n",
       "      <td>0.0</td>\n",
       "      <td>-3.104517</td>\n",
       "      <td>1</td>\n",
       "    </tr>\n",
       "    <tr>\n",
       "      <th>86</th>\n",
       "      <td>1</td>\n",
       "      <td>0</td>\n",
       "      <td>0</td>\n",
       "      <td>0</td>\n",
       "      <td>0</td>\n",
       "      <td>0</td>\n",
       "      <td>0</td>\n",
       "      <td>1</td>\n",
       "      <td>0</td>\n",
       "      <td>0</td>\n",
       "      <td>...</td>\n",
       "      <td>0</td>\n",
       "      <td>1</td>\n",
       "      <td>0</td>\n",
       "      <td>1</td>\n",
       "      <td>0</td>\n",
       "      <td>0</td>\n",
       "      <td>0</td>\n",
       "      <td>0.0</td>\n",
       "      <td>-3.104517</td>\n",
       "      <td>1</td>\n",
       "    </tr>\n",
       "    <tr>\n",
       "      <th>29</th>\n",
       "      <td>1</td>\n",
       "      <td>0</td>\n",
       "      <td>0</td>\n",
       "      <td>0</td>\n",
       "      <td>0</td>\n",
       "      <td>0</td>\n",
       "      <td>1</td>\n",
       "      <td>0</td>\n",
       "      <td>0</td>\n",
       "      <td>0</td>\n",
       "      <td>...</td>\n",
       "      <td>1</td>\n",
       "      <td>0</td>\n",
       "      <td>0</td>\n",
       "      <td>0</td>\n",
       "      <td>0</td>\n",
       "      <td>0</td>\n",
       "      <td>1</td>\n",
       "      <td>0.0</td>\n",
       "      <td>-2.881966</td>\n",
       "      <td>1</td>\n",
       "    </tr>\n",
       "    <tr>\n",
       "      <th>81</th>\n",
       "      <td>0</td>\n",
       "      <td>1</td>\n",
       "      <td>0</td>\n",
       "      <td>0</td>\n",
       "      <td>0</td>\n",
       "      <td>0</td>\n",
       "      <td>0</td>\n",
       "      <td>1</td>\n",
       "      <td>0</td>\n",
       "      <td>0</td>\n",
       "      <td>...</td>\n",
       "      <td>1</td>\n",
       "      <td>0</td>\n",
       "      <td>0</td>\n",
       "      <td>0</td>\n",
       "      <td>0</td>\n",
       "      <td>0</td>\n",
       "      <td>1</td>\n",
       "      <td>0.0</td>\n",
       "      <td>-2.263932</td>\n",
       "      <td>1</td>\n",
       "    </tr>\n",
       "    <tr>\n",
       "      <th>41</th>\n",
       "      <td>1</td>\n",
       "      <td>1</td>\n",
       "      <td>0</td>\n",
       "      <td>0</td>\n",
       "      <td>0</td>\n",
       "      <td>0</td>\n",
       "      <td>0</td>\n",
       "      <td>0</td>\n",
       "      <td>0</td>\n",
       "      <td>0</td>\n",
       "      <td>...</td>\n",
       "      <td>0</td>\n",
       "      <td>0</td>\n",
       "      <td>0</td>\n",
       "      <td>0</td>\n",
       "      <td>0</td>\n",
       "      <td>0</td>\n",
       "      <td>1</td>\n",
       "      <td>0.0</td>\n",
       "      <td>-1.645898</td>\n",
       "      <td>1</td>\n",
       "    </tr>\n",
       "  </tbody>\n",
       "</table>\n",
       "<p>100 rows × 28 columns</p>\n",
       "</div>"
      ],
      "text/plain": [
       "    1  2  3  4  5  6  7  8  9  10  ...  19  20  21  22  23  24  25  \\\n",
       "99  1  0  0  0  0  0  1  0  0   0  ...   1   0   0   0   0   0   1   \n",
       "46  1  0  0  0  0  0  1  0  0   0  ...   1   0   0   0   0   0   1   \n",
       "52  1  0  0  0  0  0  1  0  0   0  ...   1   0   0   0   0   0   1   \n",
       "33  1  0  0  0  0  0  1  0  0   0  ...   1   0   0   0   0   0   1   \n",
       "32  1  0  0  0  0  0  1  0  0   0  ...   1   0   0   0   0   0   1   \n",
       ".. .. .. .. .. .. .. .. .. ..  ..  ...  ..  ..  ..  ..  ..  ..  ..   \n",
       "42  1  0  0  0  0  0  0  1  0   0  ...   0   1   0   1   0   0   0   \n",
       "86  1  0  0  0  0  0  0  1  0   0  ...   0   1   0   1   0   0   0   \n",
       "29  1  0  0  0  0  0  1  0  0   0  ...   1   0   0   0   0   0   1   \n",
       "81  0  1  0  0  0  0  0  1  0   0  ...   1   0   0   0   0   0   1   \n",
       "41  1  1  0  0  0  0  0  0  0   0  ...   0   0   0   0   0   0   1   \n",
       "\n",
       "    chain_break_fraction    energy  num_occurrences  \n",
       "99                   0.0 -7.500000                1  \n",
       "46                   0.0 -7.500000                1  \n",
       "52                   0.0 -7.500000                1  \n",
       "33                   0.0 -7.500000                1  \n",
       "32                   0.0 -7.500000                1  \n",
       "..                   ...       ...              ...  \n",
       "42                   0.0 -3.104517                1  \n",
       "86                   0.0 -3.104517                1  \n",
       "29                   0.0 -2.881966                1  \n",
       "81                   0.0 -2.263932                1  \n",
       "41                   0.0 -1.645898                1  \n",
       "\n",
       "[100 rows x 28 columns]"
      ]
     },
     "execution_count": 23,
     "metadata": {},
     "output_type": "execute_result"
    }
   ],
   "source": [
    "sampleset_comp_2.to_pandas_dataframe().sort_values('energy')"
   ]
  },
  {
   "cell_type": "code",
   "execution_count": 24,
   "metadata": {},
   "outputs": [
    {
     "data": {
      "text/plain": [
       "-7.5"
      ]
     },
     "execution_count": 24,
     "metadata": {},
     "output_type": "execute_result"
    }
   ],
   "source": [
    "correct_sol_array = np.asarray(correct_sol)\n",
    "correct_sol_array @ Q_array @ correct_sol_array"
   ]
  },
  {
   "cell_type": "code",
   "execution_count": 28,
   "metadata": {},
   "outputs": [
    {
     "data": {
      "text/html": [
       "<iframe src=http://127.0.0.1:18000/?problemId=ac93faaf-6f1a-4f82-af7a-7fcbe34e8130 width=\"100%\" height=640></iframe>"
      ],
      "text/plain": [
       "Serving Inspector on http://127.0.0.1:18000/?problemId=ac93faaf-6f1a-4f82-af7a-7fcbe34e8130"
      ]
     },
     "metadata": {},
     "output_type": "display_data"
    },
    {
     "data": {
      "text/plain": [
       "'http://127.0.0.1:18000/?problemId=ac93faaf-6f1a-4f82-af7a-7fcbe34e8130'"
      ]
     },
     "execution_count": 28,
     "metadata": {},
     "output_type": "execute_result"
    }
   ],
   "source": [
    "# This use of inspector also works if 'import dwave.inspector' was executed after samples were created\n",
    "# If 'import dwave.inspector' is executed before sampling, it simplifies to 'dwave.inspector.show(sampleset_comp_2)'\n",
    "import dimod\n",
    "dwave.inspector.show_bqm_sampleset(dimod.BinaryQuadraticModel.from_qubo(Q_dict), sampleset_comp_2, sampler=sampler, embedding_context=dict(embedding = embedding))"
   ]
  },
  {
   "cell_type": "code",
   "execution_count": 26,
   "metadata": {},
   "outputs": [],
   "source": []
  },
  {
   "cell_type": "code",
   "execution_count": null,
   "metadata": {},
   "outputs": [],
   "source": [
    "dimod.BinaryQuadraticModel.from_qubo(Q_dict)"
   ]
  },
  {
   "cell_type": "code",
   "execution_count": null,
   "metadata": {},
   "outputs": [],
   "source": [
    "embedding_context = dict(embedding = embedding)"
   ]
  },
  {
   "cell_type": "code",
   "execution_count": null,
   "metadata": {},
   "outputs": [],
   "source": [
    "embedding_context.get('embedding')"
   ]
  }
 ],
 "metadata": {
  "kernelspec": {
   "display_name": "masterth",
   "language": "python",
   "name": "python3"
  },
  "language_info": {
   "codemirror_mode": {
    "name": "ipython",
    "version": 3
   },
   "file_extension": ".py",
   "mimetype": "text/x-python",
   "name": "python",
   "nbconvert_exporter": "python",
   "pygments_lexer": "ipython3",
   "version": "3.12.0"
  }
 },
 "nbformat": 4,
 "nbformat_minor": 2
}
