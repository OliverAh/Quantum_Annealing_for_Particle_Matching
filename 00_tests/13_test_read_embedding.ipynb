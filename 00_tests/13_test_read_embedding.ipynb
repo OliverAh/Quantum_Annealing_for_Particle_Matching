{
 "cells": [
  {
   "cell_type": "code",
   "execution_count": 1,
   "metadata": {},
   "outputs": [],
   "source": [
    "import sys\n",
    "import pathlib\n",
    "sys.path.append(str(pathlib.PurePath(pathlib.Path.cwd().parent)))\n",
    "\n",
    "import os\n",
    "import h5py\n",
    "import numpy as np\n",
    "import matplotlib.pyplot as plt\n",
    "import networkx as nx\n",
    "\n",
    "import dimod\n",
    "import dwave\n",
    "import dwave.system\n",
    "from dwave.system import DWaveSampler, EmbeddingComposite, FixedEmbeddingComposite\n",
    "import dwave.inspector\n",
    "import dwave_networkx as dnx\n",
    "import minorminer\n",
    "import embera\n",
    "\n",
    "from src.particle_funcs import distance_matrix as distance_matrix\n",
    "import src.leap_funcs.qubo.q_matrix as q_matrix\n",
    "\n",
    "from src import h5py_funcs\n",
    "from src.h5py_funcs import discoveries, init_custom_getstates, io"
   ]
  },
  {
   "cell_type": "code",
   "execution_count": 2,
   "metadata": {},
   "outputs": [
    {
     "name": "stdout",
     "output_type": "stream",
     "text": [
      "Filename:  test.h5\n",
      " - composite   <HDF5 group \"/composite\" (7 members)>\n",
      " - embedding   <HDF5 group \"/embedding\" (25 members)>\n",
      " - group   <HDF5 group \"/group\" (1 members)>\n",
      " - group2   <HDF5 group \"/group2\" (2 members)>\n",
      " - group3   <HDF5 group \"/group3\" (1 members)>\n",
      " - group4   <HDF5 group \"/group4\" (2 members)>\n",
      " - particles   <HDF5 group \"/particles\" (2 members)>\n",
      " - sampler   <HDF5 group \"/sampler\" (10 members)>\n",
      " - test   <HDF5 dataset \"test\": shape (100, 100), type \"<f8\">\n",
      "\n",
      "<HDF5 group \"/embedding\" (25 members)>\n",
      "25\n",
      "ItemsViewHDF5(<HDF5 group \"/embedding\" (25 members)>)\n"
     ]
    }
   ],
   "source": [
    "read_embedding = h5py_funcs.io.read_embedding_from_hdf5_file('test.h5')"
   ]
  },
  {
   "cell_type": "code",
   "execution_count": 3,
   "metadata": {},
   "outputs": [
    {
     "name": "stdout",
     "output_type": "stream",
     "text": [
      "<class 'dict'>\n",
      "{1: [3996, 3997], 10: [1250, 3951, 3891], 11: [1415, 4027], 12: [1520, 3952], 13: [3922, 1475], 14: [3982, 3981], 15: [1430, 3892], 16: [4012, 1400, 1476], 17: [4101, 4102, 1535], 18: [1461, 1460], 19: [3967, 3966, 1505], 2: [1325, 4086, 4087], 20: [1369, 1370, 3862], 21: [3771, 1384, 1385], 22: [3937, 3936], 23: [3878, 3877, 1580], 24: [3831, 1324, 1280], 25: [3847, 1310], 3: [1445, 1446, 4057], 4: [1340, 1339], 5: [1311, 4042, 4011], 6: [1355, 1354], 7: [1295, 1296, 4072, 4073], 8: [3907, 3906], 9: [1265, 3921]}\n",
      "<class 'int'>\n",
      "<class 'list'>\n",
      "<class 'numpy.int32'>\n"
     ]
    }
   ],
   "source": [
    "print(type(read_embedding))\n",
    "print(read_embedding)\n",
    "print(type([key for key in read_embedding.keys()][0]))\n",
    "print(type(read_embedding[1]))\n",
    "print(type(read_embedding[1][0]))"
   ]
  },
  {
   "cell_type": "code",
   "execution_count": 4,
   "metadata": {},
   "outputs": [],
   "source": [
    "with open('../API_Token.txt') as file:\n",
    "    token = file.readline().rstrip()\n",
    "    architecture = file.readline().rstrip()\n",
    "sampler = DWaveSampler(token = token, architecture='pegasus', region='eu-central-1')\n",
    "tmp_can_be_removed_ = sampler.adjacency # required for sampler having all data needed for __getstate__, no idea why this is necessary"
   ]
  },
  {
   "cell_type": "code",
   "execution_count": 5,
   "metadata": {},
   "outputs": [
    {
     "name": "stdout",
     "output_type": "stream",
     "text": [
      "[1. 0. 0. 0. 0. 0. 1. 0. 0. 0. 0. 0. 1. 0. 0. 0. 0. 0. 1. 0. 0. 0. 0. 0.\n",
      " 1.]\n"
     ]
    }
   ],
   "source": [
    "num_particles = 5\n",
    "\n",
    "use_dimod_exact_solver = False\n",
    "\n",
    "part_coords_n = np.zeros((num_particles,2))\n",
    "part_coords_nm1 = np.zeros((num_particles,2))\n",
    "\n",
    "for i in range(np.shape(part_coords_n)[0]):\n",
    "    part_coords_n[i,:] = [0, i]\n",
    "    part_coords_nm1[i,:] = [0.5*1, i]\n",
    "\n",
    "#fig_initial, axs_initial = plt.subplots(1,1)\n",
    "#axs_initial.scatter(part_coords_n[:,0], part_coords_n[:,1], label=\"n\")\n",
    "#axs_initial.scatter(part_coords_nm1[:,0], part_coords_nm1[:,1], label=\"n-1\")\n",
    "#fig_initial.legend()\n",
    "#fig_initial.show()\n",
    "\n",
    "correct_sol = np.zeros(num_particles*num_particles)\n",
    "for i in range(1, num_particles+1):\n",
    "    correct_sol[(i-1)*num_particles + i -1] = 1.\n",
    "\n",
    "print(correct_sol)"
   ]
  },
  {
   "cell_type": "code",
   "execution_count": 6,
   "metadata": {},
   "outputs": [],
   "source": [
    "distances = distance_matrix.calc_phi_ij(part_coords_n, part_coords_nm1)\n",
    "Q_dist_diag = q_matrix.q_dist_diag(distances)\n",
    "Q_part = q_matrix.q_part(np.shape(distances)[0])\n",
    "Q_pos = q_matrix.q_pos(np.shape(distances)[0])\n",
    "Q_array = Q_dist_diag + Q_part + Q_pos\n",
    "Q_dict = q_matrix.Q_convert_to_dict(Q_array)\n",
    "#with np.printoptions(precision=3, linewidth=1000, threshold=1e6):\n",
    "#    print(Q_array)"
   ]
  },
  {
   "cell_type": "code",
   "execution_count": 7,
   "metadata": {},
   "outputs": [
    {
     "name": "stdout",
     "output_type": "stream",
     "text": [
      "63\n",
      "14664.426470404487\n"
     ]
    }
   ],
   "source": [
    "composite_2 = FixedEmbeddingComposite(sampler, read_embedding)\n",
    "num_qubits_comp_2 = len(set(inner for outer in read_embedding.values() for inner in outer))\n",
    "print(num_qubits_comp_2)\n",
    "params = {'label' : 'superdupernice label',\n",
    "          'annealing_time': 5, \n",
    "          'num_reads': 3, \n",
    "          'answer_mode': 'raw', \n",
    "          'programming_thermalization': 1000, \n",
    "          'readout_thermalization': 0}\n",
    "print(composite_2.child.solver.estimate_qpu_access_time(num_qubits=num_qubits_comp_2, **params))"
   ]
  },
  {
   "cell_type": "code",
   "execution_count": 8,
   "metadata": {},
   "outputs": [],
   "source": [
    "samples = composite_2.sample_qubo(Q_dict, **params)"
   ]
  },
  {
   "cell_type": "code",
   "execution_count": 9,
   "metadata": {},
   "outputs": [
    {
     "data": {
      "text/plain": [
       "SampleSet(rec.array([([0, 1, 0, 0, 0, 1, 0, 0, 0, 0, 0, 0, 1, 0, 0, 0, 0, 0, 1, 0, 0, 0, 0, 0, 1], -6.26393202, 1, 0.),\n",
       "           ([0, 1, 0, 0, 0, 1, 0, 0, 0, 0, 0, 0, 0, 1, 0, 0, 0, 1, 0, 0, 0, 0, 0, 0, 1], -5.02786405, 1, 0.),\n",
       "           ([1, 0, 0, 0, 0, 0, 0, 0, 0, 0, 0, 1, 0, 0, 0, 0, 0, 1, 0, 0, 0, 0, 0, 0, 1], -4.76393202, 1, 0.)],\n",
       "          dtype=[('sample', 'i1', (25,)), ('energy', '<f8'), ('num_occurrences', '<i4'), ('chain_break_fraction', '<f8')]), Variables([1, 2, 3, 4, 5, 6, 7, 8, 9, 10, 11, 12, 13, 14, 15, 16, 17, 18, 19, 20, 21, 22, 23, 24, 25]), {'timing': {'qpu_sampling_time': 279.48, 'qpu_anneal_time_per_sample': 5.0, 'qpu_readout_time_per_sample': 67.62, 'qpu_access_time': 15157.53, 'qpu_access_overhead_time': 2382.47, 'qpu_programming_time': 14878.05, 'qpu_delay_time_per_sample': 20.54, 'total_post_processing_time': 228.0, 'post_processing_overhead_time': 228.0}, 'problem_id': '5eb050cb-1f5e-48d1-815f-c6bccf6f85a6', 'problem_label': 'superdupernice label', 'embedding_context': {'embedding': {1: (3996, 3997), 10: (1250, 3951, 3891), 11: (1415, 4027), 12: (1520, 3952), 13: (3922, 1475), 14: (3982, 3981), 15: (1430, 3892), 16: (4012, 1400, 1476), 17: (4101, 4102, 1535), 18: (1461, 1460), 19: (3967, 3966, 1505), 2: (1325, 4086, 4087), 20: (1369, 1370, 3862), 21: (3771, 1384, 1385), 22: (3937, 3936), 23: (3878, 3877, 1580), 24: (3831, 1324, 1280), 25: (3847, 1310), 3: (1445, 1446, 4057), 4: (1340, 1339), 5: (1311, 4042, 4011), 6: (1355, 1354), 7: (1295, 1296, 4072, 4073), 8: (3907, 3906), 9: (1265, 3921)}, 'chain_break_method': 'majority_vote', 'embedding_parameters': {}, 'chain_strength': 3.999395954391113}, 'warnings': [{'type': <class 'dwave.system.warnings.ChainStrengthWarning'>, 'message': 'Some quadratic biases are stronger than the given chain strength', 'level': 30, 'data': {'source_interactions': [(2, 1), (3, 1), (3, 2), (4, 1), (4, 2), (4, 3), (5, 1), (5, 2), (5, 3), (5, 4), (6, 1), (11, 1), (11, 6), (16, 1), (16, 6), (16, 11), (21, 1), (21, 6), (21, 11), (21, 16), (7, 2), (7, 6), (12, 2), (12, 11), (12, 7), (17, 2), (17, 16), (17, 7), (17, 12), (22, 2), (22, 21), (22, 7), (22, 12), (22, 17), (8, 3), (8, 6), (8, 7), (13, 3), (13, 11), (13, 12), (13, 8), (18, 3), (18, 16), (18, 17), (18, 8), (18, 13), (23, 3), (23, 21), (23, 22), (23, 8), (23, 13), (23, 18), (9, 4), (9, 6), (9, 7), (9, 8), (14, 4), (14, 11), (14, 12), (14, 13), (14, 9), (19, 4), (19, 16), (19, 17), (19, 18), (19, 9), (19, 14), (24, 4), (24, 21), (24, 22), (24, 23), (24, 9), (24, 14), (24, 19), (10, 5), (10, 6), (10, 7), (10, 8), (10, 9), (15, 5), (15, 11), (15, 12), (15, 13), (15, 14), (15, 10), (20, 5), (20, 16), (20, 17), (20, 18), (20, 19), (20, 10), (20, 15), (25, 5), (25, 21), (25, 22), (25, 23), (25, 24), (25, 10), (25, 15), (25, 20)]}}]}, 'BINARY')"
      ]
     },
     "execution_count": 9,
     "metadata": {},
     "output_type": "execute_result"
    }
   ],
   "source": [
    "samples"
   ]
  },
  {
   "cell_type": "code",
   "execution_count": 10,
   "metadata": {},
   "outputs": [
    {
     "name": "stdout",
     "output_type": "stream",
     "text": [
      "[0, 1]\n",
      "[([0, 1, 0, 0, 0, 1, 0, 0, 0, 0, 0, 0, 1, 0, 0, 0, 0, 0, 1, 0, 0, 0, 0, 0, 1], -6.26393202, 1, 0.)\n",
      " ([0, 1, 0, 0, 0, 1, 0, 0, 0, 0, 0, 0, 0, 1, 0, 0, 0, 1, 0, 0, 0, 0, 0, 0, 1], -5.02786405, 1, 0.)]\n"
     ]
    }
   ],
   "source": [
    "from src.leap_funcs.qubo import filter_samples\n",
    "\n",
    "ids_valid_solutions= filter_samples.indices_of_valid_solutions(samples, sort_energies=False)\n",
    "print(ids_valid_solutions)\n",
    "print(samples.record[ids_valid_solutions])"
   ]
  },
  {
   "cell_type": "code",
   "execution_count": 11,
   "metadata": {},
   "outputs": [
    {
     "name": "stdout",
     "output_type": "stream",
     "text": [
      "sol 0 is valid but not optimal\n",
      "  ([0, 1, 0, 0, 0, 1, 0, 0, 0, 0, 0, 0, 1, 0, 0, 0, 0, 0, 1, 0, 0, 0, 0, 0, 1], -6.26393202, 1, 0.)\n",
      "sol 1 is valid but not optimal\n",
      "  ([0, 1, 0, 0, 0, 1, 0, 0, 0, 0, 0, 0, 0, 1, 0, 0, 0, 1, 0, 0, 0, 0, 0, 0, 1], -5.02786405, 1, 0.)\n"
     ]
    }
   ],
   "source": [
    "for i, sol in enumerate(samples.record):\n",
    "    if i in ids_valid_solutions:\n",
    "        if np.array_equal(correct_sol, sol[0]):\n",
    "            print('sol', i, 'is valid and optimal')\n",
    "            print(' ', sol)\n",
    "        else: \n",
    "            print('sol', i, 'is valid but not optimal')\n",
    "            print(' ', sol)\n",
    "for i, sol in enumerate(samples.record[ids_valid_solutions]):\n",
    "    if np.array_equal(correct_sol, sol[0]):\n",
    "        print(ids_valid_solutions[i])\n",
    "        print(sol)"
   ]
  }
 ],
 "metadata": {
  "kernelspec": {
   "display_name": "masterth_python_3_12",
   "language": "python",
   "name": "python3"
  },
  "language_info": {
   "codemirror_mode": {
    "name": "ipython",
    "version": 3
   },
   "file_extension": ".py",
   "mimetype": "text/x-python",
   "name": "python",
   "nbconvert_exporter": "python",
   "pygments_lexer": "ipython3",
   "version": "3.12.0"
  }
 },
 "nbformat": 4,
 "nbformat_minor": 2
}
