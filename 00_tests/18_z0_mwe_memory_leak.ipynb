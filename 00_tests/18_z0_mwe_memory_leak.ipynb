{
 "cells": [
  {
   "cell_type": "code",
   "execution_count": 1,
   "metadata": {},
   "outputs": [],
   "source": [
    "import gc\n",
    "import numpy as np\n",
    "\n",
    "import dwave\n",
    "import dwave.system\n",
    "from dwave.system import DWaveSampler, EmbeddingComposite, FixedEmbeddingComposite\n",
    "import minorminer\n"
   ]
  },
  {
   "cell_type": "code",
   "execution_count": 2,
   "metadata": {},
   "outputs": [],
   "source": [
    "with open('../API_Token_Dev.txt') as file:\n",
    "    token = file.readline().rstrip()\n",
    "kwargs_dwavesampler = {'token': token, 'architecture': 'pegasus', 'region': 'eu-central-1'}\n",
    "sampler = DWaveSampler(**kwargs_dwavesampler)"
   ]
  },
  {
   "cell_type": "code",
   "execution_count": 3,
   "metadata": {},
   "outputs": [],
   "source": [
    "qubo_q = np.random.rand(5,5,dtype=np.float128)\n",
    "qubo_q = qubo_q + qubo_q.T\n",
    "source_graph = {(i+1, j+1): qubo_q[i, j] for i in range(5) for j in range(i,5)}\n"
   ]
  },
  {
   "cell_type": "code",
   "execution_count": 4,
   "metadata": {},
   "outputs": [
    {
     "data": {
      "text/plain": [
       "{1: [2445], 2: [2430], 3: [3073], 4: [3088], 5: [3118, 2505]}"
      ]
     },
     "execution_count": 4,
     "metadata": {},
     "output_type": "execute_result"
    }
   ],
   "source": [
    "embedding = minorminer.find_embedding(S=source_graph, T=sampler.edgelist)\n",
    "embedding"
   ]
  },
  {
   "cell_type": "code",
   "execution_count": 5,
   "metadata": {},
   "outputs": [],
   "source": [
    "sampler = DWaveSampler(token = token, architecture='pegasus', region='eu-central-1')\n"
   ]
  },
  {
   "cell_type": "code",
   "execution_count": 6,
   "metadata": {},
   "outputs": [
    {
     "data": {
      "text/plain": [
       "0"
      ]
     },
     "execution_count": 6,
     "metadata": {},
     "output_type": "execute_result"
    }
   ],
   "source": [
    "composite = FixedEmbeddingComposite(child_sampler=sampler, embedding=embedding)\n",
    "gc.collect()"
   ]
  },
  {
   "cell_type": "code",
   "execution_count": 7,
   "metadata": {},
   "outputs": [
    {
     "name": "stdout",
     "output_type": "stream",
     "text": [
      "1\n"
     ]
    }
   ],
   "source": [
    "print(len(gc.get_referrers(composite)))"
   ]
  },
  {
   "cell_type": "code",
   "execution_count": 8,
   "metadata": {},
   "outputs": [
    {
     "data": {
      "text/plain": [
       "0"
      ]
     },
     "execution_count": 8,
     "metadata": {},
     "output_type": "execute_result"
    }
   ],
   "source": [
    "del composite\n",
    "gc.collect()"
   ]
  },
  {
   "cell_type": "code",
   "execution_count": 9,
   "metadata": {},
   "outputs": [
    {
     "ename": "NameError",
     "evalue": "name 'composite' is not defined",
     "output_type": "error",
     "traceback": [
      "\u001b[1;31m---------------------------------------------------------------------------\u001b[0m",
      "\u001b[1;31mNameError\u001b[0m                                 Traceback (most recent call last)",
      "Cell \u001b[1;32mIn[9], line 1\u001b[0m\n\u001b[1;32m----> 1\u001b[0m \u001b[38;5;28mlen\u001b[39m(gc\u001b[38;5;241m.\u001b[39mget_referrers(composite))\n",
      "\u001b[1;31mNameError\u001b[0m: name 'composite' is not defined"
     ]
    }
   ],
   "source": [
    "#len(gc.get_referrers(composite))"
   ]
  },
  {
   "cell_type": "code",
   "execution_count": 15,
   "metadata": {},
   "outputs": [
    {
     "name": "stdout",
     "output_type": "stream",
     "text": [
      "iteration: 1000 of 1000\r"
     ]
    }
   ],
   "source": [
    "iterations = 1000\n",
    "for i in range(iterations):\n",
    "    print(f'iteration: {i+1} of {iterations}', end='\\r')\n",
    "    sampler = DWaveSampler(token = token, architecture='pegasus', region='eu-central-1')\n",
    "    composite = FixedEmbeddingComposite(child_sampler=sampler, embedding=embedding)\n",
    "    a = composite.embedding_parameters\n",
    "    if 'hello' in a.keys():\n",
    "        print(a['hello'])"
   ]
  }
 ],
 "metadata": {
  "kernelspec": {
   "display_name": "masterth_file",
   "language": "python",
   "name": "python3"
  },
  "language_info": {
   "codemirror_mode": {
    "name": "ipython",
    "version": 3
   },
   "file_extension": ".py",
   "mimetype": "text/x-python",
   "name": "python",
   "nbconvert_exporter": "python",
   "pygments_lexer": "ipython3",
   "version": "3.12.1"
  }
 },
 "nbformat": 4,
 "nbformat_minor": 2
}
