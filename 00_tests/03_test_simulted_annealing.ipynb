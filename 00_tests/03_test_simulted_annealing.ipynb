{
 "cells": [
  {
   "cell_type": "code",
   "execution_count": 1,
   "metadata": {},
   "outputs": [],
   "source": [
    "import sys\n",
    "import pathlib\n",
    "sys.path.append(str(pathlib.PurePath(pathlib.Path.cwd().parent)))\n",
    "\n",
    "\n",
    "import numpy as np\n",
    "import matplotlib.pyplot as plt\n",
    "from src import particle_funcs\n",
    "from src.particle_funcs import distance_matrix\n",
    "from src import leap_funcs\n",
    "from src.leap_funcs import qubo\n",
    "from src.leap_funcs.qubo import q_matrix"
   ]
  },
  {
   "cell_type": "code",
   "execution_count": 2,
   "metadata": {},
   "outputs": [
    {
     "name": "stderr",
     "output_type": "stream",
     "text": [
      "C:\\Users\\oahre\\AppData\\Local\\Temp\\ipykernel_23588\\1983393585.py:15: UserWarning: FigureCanvasAgg is non-interactive, and thus cannot be shown\n",
      "  fig_initial.show()\n"
     ]
    },
    {
     "name": "stdout",
     "output_type": "stream",
     "text": [
      "[1. 0. 0. ... 0. 0. 1.]\n"
     ]
    },
    {
     "data": {
      "image/png": "[encoded data removed]",
      "text/plain": [
       "<Figure size 640x480 with 1 Axes>"
      ]
     },
     "metadata": {},
     "output_type": "display_data"
    }
   ],
   "source": [
    "num_particles = 500\n",
    "dist_particles = 0.5\n",
    "\n",
    "part_coords_n = np.zeros((num_particles,2))\n",
    "part_coords_nm1 = np.zeros((num_particles,2))\n",
    "\n",
    "for i in range(np.shape(part_coords_n)[0]):\n",
    "    part_coords_n[i,:] = [0, i]\n",
    "    part_coords_nm1[i,:] = [dist_particles, i]\n",
    "\n",
    "fig_initial, axs_initial = plt.subplots(1,1)\n",
    "axs_initial.scatter(part_coords_n[:,0], part_coords_n[:,1], label=\"n\")\n",
    "axs_initial.scatter(part_coords_nm1[:,0], part_coords_nm1[:,1], label=\"n-1\")\n",
    "fig_initial.legend()\n",
    "fig_initial.show()\n",
    "\n",
    "correct_sol = np.zeros(num_particles*num_particles)\n",
    "for i in range(1, num_particles+1):\n",
    "    correct_sol[(i-1)*num_particles + i -1] = 1.\n",
    "\n",
    "print(correct_sol)"
   ]
  },
  {
   "cell_type": "code",
   "execution_count": 3,
   "metadata": {},
   "outputs": [
    {
     "data": {
      "text/plain": [
       "array([[  0.5       ,   1.11803399,   2.06155281, ..., 497.00025151,\n",
       "        498.000251  , 499.0002505 ],\n",
       "       [  1.11803399,   0.5       ,   1.11803399, ..., 496.00025202,\n",
       "        497.00025151, 498.000251  ],\n",
       "       [  2.06155281,   1.11803399,   0.5       , ..., 495.00025253,\n",
       "        496.00025202, 497.00025151],\n",
       "       ...,\n",
       "       [497.00025151, 496.00025202, 495.00025253, ...,   0.5       ,\n",
       "          1.11803399,   2.06155281],\n",
       "       [498.000251  , 497.00025151, 496.00025202, ...,   1.11803399,\n",
       "          0.5       ,   1.11803399],\n",
       "       [499.0002505 , 498.000251  , 497.00025151, ...,   2.06155281,\n",
       "          1.11803399,   0.5       ]])"
      ]
     },
     "execution_count": 3,
     "metadata": {},
     "output_type": "execute_result"
    }
   ],
   "source": [
    "dist = distance_matrix.calc_phi_ij(coords_n=part_coords_n, coords_n_minus_1=part_coords_nm1)\n",
    "dist"
   ]
  },
  {
   "cell_type": "code",
   "execution_count": 4,
   "metadata": {},
   "outputs": [
    {
     "ename": "MemoryError",
     "evalue": "Unable to allocate 7.28 TiB for an array with shape (1000000, 1000000) and data type float64",
     "output_type": "error",
     "traceback": [
      "\u001b[1;31m---------------------------------------------------------------------------\u001b[0m",
      "\u001b[1;31mMemoryError\u001b[0m                               Traceback (most recent call last)",
      "Cell \u001b[1;32mIn[4], line 1\u001b[0m\n\u001b[1;32m----> 1\u001b[0m q1 \u001b[38;5;241m=\u001b[39m \u001b[43mleap_funcs\u001b[49m\u001b[38;5;241;43m.\u001b[39;49m\u001b[43mqubo\u001b[49m\u001b[38;5;241;43m.\u001b[39;49m\u001b[43mq_matrix\u001b[49m\u001b[38;5;241;43m.\u001b[39;49m\u001b[43mq_dist\u001b[49m\u001b[43m(\u001b[49m\u001b[43mdist\u001b[49m\u001b[43m)\u001b[49m\n\u001b[0;32m      2\u001b[0m \u001b[38;5;66;03m##with np.printoptions(precision=2):\u001b[39;00m\n\u001b[0;32m      3\u001b[0m \u001b[38;5;66;03m##    print(q1)\u001b[39;00m\n",
      "File \u001b[1;32md:\\OneDriveRWTH\\RWTH\\Simulation_Sciences\\Masterthesis\\04_Code\\Quantum_Annealing_for_Particle_Matching\\src\\leap_funcs\\qubo\\q_matrix.py:84\u001b[0m, in \u001b[0;36mq_dist\u001b[1;34m(distance_matrix)\u001b[0m\n\u001b[0;32m     82\u001b[0m \u001b[38;5;28;01mdef\u001b[39;00m \u001b[38;5;21mq_dist\u001b[39m(distance_matrix):\n\u001b[0;32m     83\u001b[0m     num_particles \u001b[38;5;241m=\u001b[39m np\u001b[38;5;241m.\u001b[39mshape(distance_matrix)[\u001b[38;5;241m0\u001b[39m]\n\u001b[1;32m---> 84\u001b[0m     q_dist \u001b[38;5;241m=\u001b[39m \u001b[43mnp\u001b[49m\u001b[38;5;241;43m.\u001b[39;49m\u001b[43mzeros\u001b[49m\u001b[43m(\u001b[49m\u001b[43m(\u001b[49m\u001b[43mnum_particles\u001b[49m\u001b[38;5;241;43m*\u001b[39;49m\u001b[43mnum_particles\u001b[49m\u001b[43m,\u001b[49m\u001b[43m \u001b[49m\u001b[43mnum_particles\u001b[49m\u001b[38;5;241;43m*\u001b[39;49m\u001b[43mnum_particles\u001b[49m\u001b[43m)\u001b[49m\u001b[43m)\u001b[49m\n\u001b[0;32m     86\u001b[0m     \u001b[38;5;28;01mfor\u001b[39;00m i \u001b[38;5;129;01min\u001b[39;00m \u001b[38;5;28mrange\u001b[39m(num_particles):\n\u001b[0;32m     87\u001b[0m         \u001b[38;5;28;01mfor\u001b[39;00m j \u001b[38;5;129;01min\u001b[39;00m \u001b[38;5;28mrange\u001b[39m(num_particles):\n",
      "\u001b[1;31mMemoryError\u001b[0m: Unable to allocate 7.28 TiB for an array with shape (1000000, 1000000) and data type float64"
     ]
    }
   ],
   "source": [
    "q1 = leap_funcs.qubo.q_matrix.q_dist(dist)\n",
    "##with np.printoptions(precision=2):\n",
    "##    print(q1)"
   ]
  },
  {
   "cell_type": "code",
   "execution_count": 5,
   "metadata": {},
   "outputs": [],
   "source": [
    "q2 = qubo.q_matrix.q_part(num_particles)\n",
    "q3 = qubo.q_matrix.q_pos(num_particles)"
   ]
  },
  {
   "cell_type": "code",
   "execution_count": 10,
   "metadata": {},
   "outputs": [
    {
     "name": "stdout",
     "output_type": "stream",
     "text": [
      "972\n",
      "[[-1.75        5.11803399  6.06155281 ...  0.          0.\n",
      "   0.        ]\n",
      " [ 0.         -0.75        8.60977223 ...  0.          0.\n",
      "   0.        ]\n",
      " [ 0.          0.          2.25       ...  0.          0.\n",
      "   0.        ]\n",
      " ...\n",
      " [ 0.          0.          0.         ...  2.25        8.60977223\n",
      "   6.06155281]\n",
      " [ 0.          0.          0.         ...  0.         -0.75\n",
      "   5.11803399]\n",
      " [ 0.          0.          0.         ...  0.          0.\n",
      "  -1.75      ]]\n"
     ]
    }
   ],
   "source": [
    "Q = q1 + q2 + q3\n",
    "print(np.sum(Q>0.01))\n",
    "\n",
    "#with np.printoptions(precision=2, linewidth=200, suppress=True, threshold=10000):\n",
    "print(Q)"
   ]
  },
  {
   "cell_type": "code",
   "execution_count": 7,
   "metadata": {},
   "outputs": [],
   "source": [
    "#Q_dict = qubo.q_matrix.Q_convert_to_dict(Q)"
   ]
  },
  {
   "cell_type": "code",
   "execution_count": 5,
   "metadata": {},
   "outputs": [
    {
     "name": "stdout",
     "output_type": "stream",
     "text": [
      "125000000\n"
     ]
    }
   ],
   "source": [
    "q1 = leap_funcs.qubo.q_matrix.q_dist_diag_sparse(dist)\n",
    "q2 = leap_funcs.qubo.q_matrix.q_pos_sparse(num_particles)\n",
    "q3 = leap_funcs.qubo.q_matrix.q_part_sparse(num_particles)\n",
    "\n",
    "q = q1 + q2 + q3\n",
    "#q = q.eliminate_zeros()\n",
    "print(q.count_nonzero())\n",
    "#print(np.sum(q.toarray()>0.01))\n",
    "#print(q.toarray())"
   ]
  },
  {
   "cell_type": "code",
   "execution_count": null,
   "metadata": {},
   "outputs": [],
   "source": [
    "from dwave.samplers import SimulatedAnnealingSampler\n",
    "import pandas as pd"
   ]
  },
  {
   "cell_type": "code",
   "execution_count": null,
   "metadata": {},
   "outputs": [],
   "source": [
    "sampler = SimulatedAnnealingSampler()"
   ]
  },
  {
   "cell_type": "code",
   "execution_count": null,
   "metadata": {},
   "outputs": [],
   "source": [
    "sample = sampler.sample_qubo(Q_dict)"
   ]
  },
  {
   "cell_type": "code",
   "execution_count": null,
   "metadata": {},
   "outputs": [],
   "source": [
    "sample"
   ]
  },
  {
   "cell_type": "code",
   "execution_count": null,
   "metadata": {},
   "outputs": [],
   "source": [
    "sample.record[0][0]"
   ]
  },
  {
   "cell_type": "code",
   "execution_count": null,
   "metadata": {},
   "outputs": [],
   "source": [
    "sample_list = np.zeros(num_particles*num_particles)\n",
    "print(sample.samples()[0])\n",
    "for i, item in enumerate(sample.record[0][0]):\n",
    "    sample_list[i] = item\n",
    "\n",
    "print(sample_list)\n",
    "print(\"Simulated Annealing is same as correct:\")\n",
    "print((correct_sol==sample_list).all())\n",
    "for i in range(len(correct_sol)):\n",
    "    if not correct_sol[i]==sample_list[i]:\n",
    "        print(i)"
   ]
  },
  {
   "cell_type": "code",
   "execution_count": null,
   "metadata": {},
   "outputs": [],
   "source": []
  }
 ],
 "metadata": {
  "kernelspec": {
   "display_name": "masterth",
   "language": "python",
   "name": "python3"
  },
  "language_info": {
   "codemirror_mode": {
    "name": "ipython",
    "version": 3
   },
   "file_extension": ".py",
   "mimetype": "text/x-python",
   "name": "python",
   "nbconvert_exporter": "python",
   "pygments_lexer": "ipython3",
   "version": "3.12.0"
  }
 },
 "nbformat": 4,
 "nbformat_minor": 2
}
